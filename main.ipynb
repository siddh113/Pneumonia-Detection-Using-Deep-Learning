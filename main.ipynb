{
  "nbformat": 4,
  "nbformat_minor": 0,
  "metadata": {
    "colab": {
      "provenance": [],
      "toc_visible": true,
      "gpuClass": "premium",
      "authorship_tag": "ABX9TyNcbKuWYhthc89clUI0gjZ0",
      "include_colab_link": true
    },
    "kernelspec": {
      "name": "python3",
      "display_name": "Python 3"
    },
    "language_info": {
      "name": "python"
    },
    "accelerator": "GPU",
    "gpuClass": "premium"
  },
  "cells": [
    {
      "cell_type": "markdown",
      "metadata": {
        "id": "view-in-github",
        "colab_type": "text"
      },
      "source": [
        "<a href=\"https://colab.research.google.com/github/siddh113/Pneumonia-Detection-Using-Deep-Learning-From-Chest-X-Ray/blob/main/main.ipynb\" target=\"_parent\"><img src=\"https://colab.research.google.com/assets/colab-badge.svg\" alt=\"Open In Colab\"/></a>"
      ]
    },
    {
      "cell_type": "code",
      "execution_count": null,
      "metadata": {
        "id": "k3PDp9Guw696"
      },
      "outputs": [],
      "source": [
        "# Importing necessary libraries\n",
        "\n",
        "import pandas as pd\n",
        "import matplotlib as mat\n",
        "import matplotlib.pyplot as plt\n",
        "import numpy as np\n",
        "import seaborn as sns\n",
        "%matplotlib inline\n",
        "\n",
        "pd.options.display.max_colwidth = 100\n",
        "\n",
        "import random\n",
        "import os\n",
        "\n",
        "from numpy.random import seed\n",
        "seed(42)\n",
        "\n",
        "random.seed(42)\n",
        "\n",
        "from sklearn.model_selection import train_test_split\n",
        "from sklearn import metrics\n",
        "from sklearn.metrics import accuracy_score\n",
        "\n",
        "import tensorflow as tf\n",
        "from tensorflow import keras\n",
        "from tensorflow.keras import layers\n",
        "from tensorflow.keras import callbacks\n",
        "from tensorflow.keras.models import Model\n",
        "from tensorflow.keras.preprocessing.image import ImageDataGenerator\n",
        "\n",
        "import glob\n",
        "import cv2\n",
        "\n",
        "from tensorflow.random import set_seed\n",
        "set_seed(42)\n",
        "\n",
        "import warnings\n",
        "warnings.filterwarnings('ignore')"
      ]
    },
    {
      "cell_type": "markdown",
      "source": [
        "**Loading the Dataset from the google drive**"
      ],
      "metadata": {
        "id": "cxlJhzm6PoKt"
      }
    },
    {
      "cell_type": "code",
      "source": [
        "from google.colab import drive\n",
        "drive.mount('/content/drive')"
      ],
      "metadata": {
        "colab": {
          "base_uri": "https://localhost:8080/"
        },
        "id": "ROJr67KKxMXc",
        "outputId": "4e90b19d-525d-4aa7-9333-9c807a31be88"
      },
      "execution_count": null,
      "outputs": [
        {
          "output_type": "stream",
          "name": "stdout",
          "text": [
            "Mounted at /content/drive\n"
          ]
        }
      ]
    },
    {
      "cell_type": "code",
      "source": [
        "# Pre determining the batch size to estimate the error gradient\n",
        "\n",
        "Batch_size = 32\n",
        "Seed = 42"
      ],
      "metadata": {
        "id": "YRSPm8sNL1J7"
      },
      "execution_count": null,
      "outputs": []
    },
    {
      "cell_type": "code",
      "source": [
        "chestXray_path = '/content/drive/MyDrive/Colab Notebooks/chest_xray'\n",
        "\n",
        "train_path = os.path.join(chestXray_path,\"train\")\n",
        "test_path=os.path.join(chestXray_path,\"test\")\n",
        "\n",
        "train_normal = glob.glob(train_path+\"/NORMAL/*.jpeg\")\n",
        "train_pneumonia = glob.glob(train_path+\"/PNEUMONIA/*.jpeg\")\n",
        "\n",
        "test_normal = glob.glob(test_path+\"/NORMAL/*.jpeg\")\n",
        "test_pneumonia = glob.glob(test_path+\"/PNEUMONIA/*.jpeg\")"
      ],
      "metadata": {
        "id": "hKRjAEmuM0VL"
      },
      "execution_count": null,
      "outputs": []
    },
    {
      "cell_type": "code",
      "source": [
        "train_list = [x for x in train_normal]\n",
        "train_list.extend([x for x in train_pneumonia])\n",
        "\n",
        "df_train = pd.DataFrame(np.concatenate([['Normal']*len(train_normal) , ['Pneumonia']*len(train_pneumonia)]), columns = ['class'])\n",
        "df_train['image'] = [x for x in train_list]\n",
        "\n",
        "test_list = [x for x in test_normal]\n",
        "test_list.extend([x for x in test_pneumonia])\n",
        "\n",
        "df_test = pd.DataFrame(np.concatenate([['Normal']*len(test_normal) , ['Pneumonia']*len(test_pneumonia)]), columns = ['class'])\n",
        "df_test['image'] = [x for x in test_list]"
      ],
      "metadata": {
        "id": "KNH2fzqeM0XL"
      },
      "execution_count": null,
      "outputs": []
    },
    {
      "cell_type": "code",
      "source": [
        "df_train"
      ],
      "metadata": {
        "colab": {
          "base_uri": "https://localhost:8080/",
          "height": 424
        },
        "id": "SC7KaeZhM0dK",
        "outputId": "8b7aeb84-c36d-4813-f56c-962e8a58a8e3"
      },
      "execution_count": null,
      "outputs": [
        {
          "output_type": "execute_result",
          "data": {
            "text/plain": [
              "          class  \\\n",
              "0        Normal   \n",
              "1        Normal   \n",
              "2        Normal   \n",
              "3        Normal   \n",
              "4        Normal   \n",
              "...         ...   \n",
              "5228  Pneumonia   \n",
              "5229  Pneumonia   \n",
              "5230  Pneumonia   \n",
              "5231  Pneumonia   \n",
              "5232  Pneumonia   \n",
              "\n",
              "                                                                                             image  \n",
              "0          /content/drive/MyDrive/Colab Notebooks/chest_xray/train/NORMAL/NORMAL-3269314-0001.jpeg  \n",
              "1          /content/drive/MyDrive/Colab Notebooks/chest_xray/train/NORMAL/NORMAL-3243013-0001.jpeg  \n",
              "2          /content/drive/MyDrive/Colab Notebooks/chest_xray/train/NORMAL/NORMAL-3333785-0002.jpeg  \n",
              "3          /content/drive/MyDrive/Colab Notebooks/chest_xray/train/NORMAL/NORMAL-3570271-0001.jpeg  \n",
              "4          /content/drive/MyDrive/Colab Notebooks/chest_xray/train/NORMAL/NORMAL-3518933-0002.jpeg  \n",
              "...                                                                                            ...  \n",
              "5228  /content/drive/MyDrive/Colab Notebooks/chest_xray/train/PNEUMONIA/BACTERIA-4331869-0001.jpeg  \n",
              "5229  /content/drive/MyDrive/Colab Notebooks/chest_xray/train/PNEUMONIA/BACTERIA-4213815-0003.jpeg  \n",
              "5230  /content/drive/MyDrive/Colab Notebooks/chest_xray/train/PNEUMONIA/BACTERIA-4152314-0002.jpeg  \n",
              "5231  /content/drive/MyDrive/Colab Notebooks/chest_xray/train/PNEUMONIA/BACTERIA-4170270-0003.jpeg  \n",
              "5232  /content/drive/MyDrive/Colab Notebooks/chest_xray/train/PNEUMONIA/BACTERIA-4407438-0002.jpeg  \n",
              "\n",
              "[5233 rows x 2 columns]"
            ],
            "text/html": [
              "\n",
              "  <div id=\"df-a9eb0291-49ae-4a47-8c89-4cf6d9b4a788\">\n",
              "    <div class=\"colab-df-container\">\n",
              "      <div>\n",
              "<style scoped>\n",
              "    .dataframe tbody tr th:only-of-type {\n",
              "        vertical-align: middle;\n",
              "    }\n",
              "\n",
              "    .dataframe tbody tr th {\n",
              "        vertical-align: top;\n",
              "    }\n",
              "\n",
              "    .dataframe thead th {\n",
              "        text-align: right;\n",
              "    }\n",
              "</style>\n",
              "<table border=\"1\" class=\"dataframe\">\n",
              "  <thead>\n",
              "    <tr style=\"text-align: right;\">\n",
              "      <th></th>\n",
              "      <th>class</th>\n",
              "      <th>image</th>\n",
              "    </tr>\n",
              "  </thead>\n",
              "  <tbody>\n",
              "    <tr>\n",
              "      <th>0</th>\n",
              "      <td>Normal</td>\n",
              "      <td>/content/drive/MyDrive/Colab Notebooks/chest_xray/train/NORMAL/NORMAL-3269314-0001.jpeg</td>\n",
              "    </tr>\n",
              "    <tr>\n",
              "      <th>1</th>\n",
              "      <td>Normal</td>\n",
              "      <td>/content/drive/MyDrive/Colab Notebooks/chest_xray/train/NORMAL/NORMAL-3243013-0001.jpeg</td>\n",
              "    </tr>\n",
              "    <tr>\n",
              "      <th>2</th>\n",
              "      <td>Normal</td>\n",
              "      <td>/content/drive/MyDrive/Colab Notebooks/chest_xray/train/NORMAL/NORMAL-3333785-0002.jpeg</td>\n",
              "    </tr>\n",
              "    <tr>\n",
              "      <th>3</th>\n",
              "      <td>Normal</td>\n",
              "      <td>/content/drive/MyDrive/Colab Notebooks/chest_xray/train/NORMAL/NORMAL-3570271-0001.jpeg</td>\n",
              "    </tr>\n",
              "    <tr>\n",
              "      <th>4</th>\n",
              "      <td>Normal</td>\n",
              "      <td>/content/drive/MyDrive/Colab Notebooks/chest_xray/train/NORMAL/NORMAL-3518933-0002.jpeg</td>\n",
              "    </tr>\n",
              "    <tr>\n",
              "      <th>...</th>\n",
              "      <td>...</td>\n",
              "      <td>...</td>\n",
              "    </tr>\n",
              "    <tr>\n",
              "      <th>5228</th>\n",
              "      <td>Pneumonia</td>\n",
              "      <td>/content/drive/MyDrive/Colab Notebooks/chest_xray/train/PNEUMONIA/BACTERIA-4331869-0001.jpeg</td>\n",
              "    </tr>\n",
              "    <tr>\n",
              "      <th>5229</th>\n",
              "      <td>Pneumonia</td>\n",
              "      <td>/content/drive/MyDrive/Colab Notebooks/chest_xray/train/PNEUMONIA/BACTERIA-4213815-0003.jpeg</td>\n",
              "    </tr>\n",
              "    <tr>\n",
              "      <th>5230</th>\n",
              "      <td>Pneumonia</td>\n",
              "      <td>/content/drive/MyDrive/Colab Notebooks/chest_xray/train/PNEUMONIA/BACTERIA-4152314-0002.jpeg</td>\n",
              "    </tr>\n",
              "    <tr>\n",
              "      <th>5231</th>\n",
              "      <td>Pneumonia</td>\n",
              "      <td>/content/drive/MyDrive/Colab Notebooks/chest_xray/train/PNEUMONIA/BACTERIA-4170270-0003.jpeg</td>\n",
              "    </tr>\n",
              "    <tr>\n",
              "      <th>5232</th>\n",
              "      <td>Pneumonia</td>\n",
              "      <td>/content/drive/MyDrive/Colab Notebooks/chest_xray/train/PNEUMONIA/BACTERIA-4407438-0002.jpeg</td>\n",
              "    </tr>\n",
              "  </tbody>\n",
              "</table>\n",
              "<p>5233 rows × 2 columns</p>\n",
              "</div>\n",
              "      <button class=\"colab-df-convert\" onclick=\"convertToInteractive('df-a9eb0291-49ae-4a47-8c89-4cf6d9b4a788')\"\n",
              "              title=\"Convert this dataframe to an interactive table.\"\n",
              "              style=\"display:none;\">\n",
              "        \n",
              "  <svg xmlns=\"http://www.w3.org/2000/svg\" height=\"24px\"viewBox=\"0 0 24 24\"\n",
              "       width=\"24px\">\n",
              "    <path d=\"M0 0h24v24H0V0z\" fill=\"none\"/>\n",
              "    <path d=\"M18.56 5.44l.94 2.06.94-2.06 2.06-.94-2.06-.94-.94-2.06-.94 2.06-2.06.94zm-11 1L8.5 8.5l.94-2.06 2.06-.94-2.06-.94L8.5 2.5l-.94 2.06-2.06.94zm10 10l.94 2.06.94-2.06 2.06-.94-2.06-.94-.94-2.06-.94 2.06-2.06.94z\"/><path d=\"M17.41 7.96l-1.37-1.37c-.4-.4-.92-.59-1.43-.59-.52 0-1.04.2-1.43.59L10.3 9.45l-7.72 7.72c-.78.78-.78 2.05 0 2.83L4 21.41c.39.39.9.59 1.41.59.51 0 1.02-.2 1.41-.59l7.78-7.78 2.81-2.81c.8-.78.8-2.07 0-2.86zM5.41 20L4 18.59l7.72-7.72 1.47 1.35L5.41 20z\"/>\n",
              "  </svg>\n",
              "      </button>\n",
              "      \n",
              "  <style>\n",
              "    .colab-df-container {\n",
              "      display:flex;\n",
              "      flex-wrap:wrap;\n",
              "      gap: 12px;\n",
              "    }\n",
              "\n",
              "    .colab-df-convert {\n",
              "      background-color: #E8F0FE;\n",
              "      border: none;\n",
              "      border-radius: 50%;\n",
              "      cursor: pointer;\n",
              "      display: none;\n",
              "      fill: #1967D2;\n",
              "      height: 32px;\n",
              "      padding: 0 0 0 0;\n",
              "      width: 32px;\n",
              "    }\n",
              "\n",
              "    .colab-df-convert:hover {\n",
              "      background-color: #E2EBFA;\n",
              "      box-shadow: 0px 1px 2px rgba(60, 64, 67, 0.3), 0px 1px 3px 1px rgba(60, 64, 67, 0.15);\n",
              "      fill: #174EA6;\n",
              "    }\n",
              "\n",
              "    [theme=dark] .colab-df-convert {\n",
              "      background-color: #3B4455;\n",
              "      fill: #D2E3FC;\n",
              "    }\n",
              "\n",
              "    [theme=dark] .colab-df-convert:hover {\n",
              "      background-color: #434B5C;\n",
              "      box-shadow: 0px 1px 3px 1px rgba(0, 0, 0, 0.15);\n",
              "      filter: drop-shadow(0px 1px 2px rgba(0, 0, 0, 0.3));\n",
              "      fill: #FFFFFF;\n",
              "    }\n",
              "  </style>\n",
              "\n",
              "      <script>\n",
              "        const buttonEl =\n",
              "          document.querySelector('#df-a9eb0291-49ae-4a47-8c89-4cf6d9b4a788 button.colab-df-convert');\n",
              "        buttonEl.style.display =\n",
              "          google.colab.kernel.accessAllowed ? 'block' : 'none';\n",
              "\n",
              "        async function convertToInteractive(key) {\n",
              "          const element = document.querySelector('#df-a9eb0291-49ae-4a47-8c89-4cf6d9b4a788');\n",
              "          const dataTable =\n",
              "            await google.colab.kernel.invokeFunction('convertToInteractive',\n",
              "                                                     [key], {});\n",
              "          if (!dataTable) return;\n",
              "\n",
              "          const docLinkHtml = 'Like what you see? Visit the ' +\n",
              "            '<a target=\"_blank\" href=https://colab.research.google.com/notebooks/data_table.ipynb>data table notebook</a>'\n",
              "            + ' to learn more about interactive tables.';\n",
              "          element.innerHTML = '';\n",
              "          dataTable['output_type'] = 'display_data';\n",
              "          await google.colab.output.renderOutput(dataTable, element);\n",
              "          const docLink = document.createElement('div');\n",
              "          docLink.innerHTML = docLinkHtml;\n",
              "          element.appendChild(docLink);\n",
              "        }\n",
              "      </script>\n",
              "    </div>\n",
              "  </div>\n",
              "  "
            ]
          },
          "metadata": {},
          "execution_count": 6
        }
      ]
    },
    {
      "cell_type": "code",
      "source": [
        "df_test"
      ],
      "metadata": {
        "colab": {
          "base_uri": "https://localhost:8080/",
          "height": 424
        },
        "id": "AThfVOfsQFIF",
        "outputId": "1e537a09-b6de-497c-8564-d4ac21238ca6"
      },
      "execution_count": null,
      "outputs": [
        {
          "output_type": "execute_result",
          "data": {
            "text/plain": [
              "         class  \\\n",
              "0       Normal   \n",
              "1       Normal   \n",
              "2       Normal   \n",
              "3       Normal   \n",
              "4       Normal   \n",
              "..         ...   \n",
              "619  Pneumonia   \n",
              "620  Pneumonia   \n",
              "621  Pneumonia   \n",
              "622  Pneumonia   \n",
              "623  Pneumonia   \n",
              "\n",
              "                                                                                        image  \n",
              "0      /content/drive/MyDrive/Colab Notebooks/chest_xray/test/NORMAL/NORMAL-1049278-0001.jpeg  \n",
              "1      /content/drive/MyDrive/Colab Notebooks/chest_xray/test/NORMAL/NORMAL-1212407-0001.jpeg  \n",
              "2        /content/drive/MyDrive/Colab Notebooks/chest_xray/test/NORMAL/NORMAL-11419-0001.jpeg  \n",
              "3      /content/drive/MyDrive/Colab Notebooks/chest_xray/test/NORMAL/NORMAL-1160949-0001.jpeg  \n",
              "4       /content/drive/MyDrive/Colab Notebooks/chest_xray/test/NORMAL/NORMAL-115218-0001.jpeg  \n",
              "..                                                                                        ...  \n",
              "619  /content/drive/MyDrive/Colab Notebooks/chest_xray/test/PNEUMONIA/VIRUS-8574414-0001.jpeg  \n",
              "620  /content/drive/MyDrive/Colab Notebooks/chest_xray/test/PNEUMONIA/VIRUS-9240664-0001.jpeg  \n",
              "621  /content/drive/MyDrive/Colab Notebooks/chest_xray/test/PNEUMONIA/VIRUS-9968655-0001.jpeg  \n",
              "622  /content/drive/MyDrive/Colab Notebooks/chest_xray/test/PNEUMONIA/VIRUS-9018258-0001.jpeg  \n",
              "623  /content/drive/MyDrive/Colab Notebooks/chest_xray/test/PNEUMONIA/VIRUS-9890836-0001.jpeg  \n",
              "\n",
              "[624 rows x 2 columns]"
            ],
            "text/html": [
              "\n",
              "  <div id=\"df-3752adcc-f960-4487-a587-4da511542875\">\n",
              "    <div class=\"colab-df-container\">\n",
              "      <div>\n",
              "<style scoped>\n",
              "    .dataframe tbody tr th:only-of-type {\n",
              "        vertical-align: middle;\n",
              "    }\n",
              "\n",
              "    .dataframe tbody tr th {\n",
              "        vertical-align: top;\n",
              "    }\n",
              "\n",
              "    .dataframe thead th {\n",
              "        text-align: right;\n",
              "    }\n",
              "</style>\n",
              "<table border=\"1\" class=\"dataframe\">\n",
              "  <thead>\n",
              "    <tr style=\"text-align: right;\">\n",
              "      <th></th>\n",
              "      <th>class</th>\n",
              "      <th>image</th>\n",
              "    </tr>\n",
              "  </thead>\n",
              "  <tbody>\n",
              "    <tr>\n",
              "      <th>0</th>\n",
              "      <td>Normal</td>\n",
              "      <td>/content/drive/MyDrive/Colab Notebooks/chest_xray/test/NORMAL/NORMAL-1049278-0001.jpeg</td>\n",
              "    </tr>\n",
              "    <tr>\n",
              "      <th>1</th>\n",
              "      <td>Normal</td>\n",
              "      <td>/content/drive/MyDrive/Colab Notebooks/chest_xray/test/NORMAL/NORMAL-1212407-0001.jpeg</td>\n",
              "    </tr>\n",
              "    <tr>\n",
              "      <th>2</th>\n",
              "      <td>Normal</td>\n",
              "      <td>/content/drive/MyDrive/Colab Notebooks/chest_xray/test/NORMAL/NORMAL-11419-0001.jpeg</td>\n",
              "    </tr>\n",
              "    <tr>\n",
              "      <th>3</th>\n",
              "      <td>Normal</td>\n",
              "      <td>/content/drive/MyDrive/Colab Notebooks/chest_xray/test/NORMAL/NORMAL-1160949-0001.jpeg</td>\n",
              "    </tr>\n",
              "    <tr>\n",
              "      <th>4</th>\n",
              "      <td>Normal</td>\n",
              "      <td>/content/drive/MyDrive/Colab Notebooks/chest_xray/test/NORMAL/NORMAL-115218-0001.jpeg</td>\n",
              "    </tr>\n",
              "    <tr>\n",
              "      <th>...</th>\n",
              "      <td>...</td>\n",
              "      <td>...</td>\n",
              "    </tr>\n",
              "    <tr>\n",
              "      <th>619</th>\n",
              "      <td>Pneumonia</td>\n",
              "      <td>/content/drive/MyDrive/Colab Notebooks/chest_xray/test/PNEUMONIA/VIRUS-8574414-0001.jpeg</td>\n",
              "    </tr>\n",
              "    <tr>\n",
              "      <th>620</th>\n",
              "      <td>Pneumonia</td>\n",
              "      <td>/content/drive/MyDrive/Colab Notebooks/chest_xray/test/PNEUMONIA/VIRUS-9240664-0001.jpeg</td>\n",
              "    </tr>\n",
              "    <tr>\n",
              "      <th>621</th>\n",
              "      <td>Pneumonia</td>\n",
              "      <td>/content/drive/MyDrive/Colab Notebooks/chest_xray/test/PNEUMONIA/VIRUS-9968655-0001.jpeg</td>\n",
              "    </tr>\n",
              "    <tr>\n",
              "      <th>622</th>\n",
              "      <td>Pneumonia</td>\n",
              "      <td>/content/drive/MyDrive/Colab Notebooks/chest_xray/test/PNEUMONIA/VIRUS-9018258-0001.jpeg</td>\n",
              "    </tr>\n",
              "    <tr>\n",
              "      <th>623</th>\n",
              "      <td>Pneumonia</td>\n",
              "      <td>/content/drive/MyDrive/Colab Notebooks/chest_xray/test/PNEUMONIA/VIRUS-9890836-0001.jpeg</td>\n",
              "    </tr>\n",
              "  </tbody>\n",
              "</table>\n",
              "<p>624 rows × 2 columns</p>\n",
              "</div>\n",
              "      <button class=\"colab-df-convert\" onclick=\"convertToInteractive('df-3752adcc-f960-4487-a587-4da511542875')\"\n",
              "              title=\"Convert this dataframe to an interactive table.\"\n",
              "              style=\"display:none;\">\n",
              "        \n",
              "  <svg xmlns=\"http://www.w3.org/2000/svg\" height=\"24px\"viewBox=\"0 0 24 24\"\n",
              "       width=\"24px\">\n",
              "    <path d=\"M0 0h24v24H0V0z\" fill=\"none\"/>\n",
              "    <path d=\"M18.56 5.44l.94 2.06.94-2.06 2.06-.94-2.06-.94-.94-2.06-.94 2.06-2.06.94zm-11 1L8.5 8.5l.94-2.06 2.06-.94-2.06-.94L8.5 2.5l-.94 2.06-2.06.94zm10 10l.94 2.06.94-2.06 2.06-.94-2.06-.94-.94-2.06-.94 2.06-2.06.94z\"/><path d=\"M17.41 7.96l-1.37-1.37c-.4-.4-.92-.59-1.43-.59-.52 0-1.04.2-1.43.59L10.3 9.45l-7.72 7.72c-.78.78-.78 2.05 0 2.83L4 21.41c.39.39.9.59 1.41.59.51 0 1.02-.2 1.41-.59l7.78-7.78 2.81-2.81c.8-.78.8-2.07 0-2.86zM5.41 20L4 18.59l7.72-7.72 1.47 1.35L5.41 20z\"/>\n",
              "  </svg>\n",
              "      </button>\n",
              "      \n",
              "  <style>\n",
              "    .colab-df-container {\n",
              "      display:flex;\n",
              "      flex-wrap:wrap;\n",
              "      gap: 12px;\n",
              "    }\n",
              "\n",
              "    .colab-df-convert {\n",
              "      background-color: #E8F0FE;\n",
              "      border: none;\n",
              "      border-radius: 50%;\n",
              "      cursor: pointer;\n",
              "      display: none;\n",
              "      fill: #1967D2;\n",
              "      height: 32px;\n",
              "      padding: 0 0 0 0;\n",
              "      width: 32px;\n",
              "    }\n",
              "\n",
              "    .colab-df-convert:hover {\n",
              "      background-color: #E2EBFA;\n",
              "      box-shadow: 0px 1px 2px rgba(60, 64, 67, 0.3), 0px 1px 3px 1px rgba(60, 64, 67, 0.15);\n",
              "      fill: #174EA6;\n",
              "    }\n",
              "\n",
              "    [theme=dark] .colab-df-convert {\n",
              "      background-color: #3B4455;\n",
              "      fill: #D2E3FC;\n",
              "    }\n",
              "\n",
              "    [theme=dark] .colab-df-convert:hover {\n",
              "      background-color: #434B5C;\n",
              "      box-shadow: 0px 1px 3px 1px rgba(0, 0, 0, 0.15);\n",
              "      filter: drop-shadow(0px 1px 2px rgba(0, 0, 0, 0.3));\n",
              "      fill: #FFFFFF;\n",
              "    }\n",
              "  </style>\n",
              "\n",
              "      <script>\n",
              "        const buttonEl =\n",
              "          document.querySelector('#df-3752adcc-f960-4487-a587-4da511542875 button.colab-df-convert');\n",
              "        buttonEl.style.display =\n",
              "          google.colab.kernel.accessAllowed ? 'block' : 'none';\n",
              "\n",
              "        async function convertToInteractive(key) {\n",
              "          const element = document.querySelector('#df-3752adcc-f960-4487-a587-4da511542875');\n",
              "          const dataTable =\n",
              "            await google.colab.kernel.invokeFunction('convertToInteractive',\n",
              "                                                     [key], {});\n",
              "          if (!dataTable) return;\n",
              "\n",
              "          const docLinkHtml = 'Like what you see? Visit the ' +\n",
              "            '<a target=\"_blank\" href=https://colab.research.google.com/notebooks/data_table.ipynb>data table notebook</a>'\n",
              "            + ' to learn more about interactive tables.';\n",
              "          element.innerHTML = '';\n",
              "          dataTable['output_type'] = 'display_data';\n",
              "          await google.colab.output.renderOutput(dataTable, element);\n",
              "          const docLink = document.createElement('div');\n",
              "          docLink.innerHTML = docLinkHtml;\n",
              "          element.appendChild(docLink);\n",
              "        }\n",
              "      </script>\n",
              "    </div>\n",
              "  </div>\n",
              "  "
            ]
          },
          "metadata": {},
          "execution_count": 7
        }
      ]
    },
    {
      "cell_type": "markdown",
      "source": [
        "##**EXPLORATION OF DATA**"
      ],
      "metadata": {
        "id": "JMbR6Z1GOPu8"
      }
    },
    {
      "cell_type": "code",
      "source": [
        "plt.figure(figsize=(6,4))\n",
        "\n",
        "ax = sns.countplot(x='class', data=df_train, palette=\"mako\")\n",
        "\n",
        "plt.xlabel(\"Class\", fontsize= 12)\n",
        "plt.ylabel(\"# of Samples\", fontsize= 12)\n",
        "plt.ylim(0,5000)\n",
        "plt.xticks([0,1], ['Normal', 'Pneumonia'], fontsize = 11)\n",
        "\n",
        "for p in ax.patches:\n",
        "    ax.annotate((p.get_height()), (p.get_x()+0.30, p.get_height()+300), fontsize = 13)\n",
        "\n",
        "plt.show()\n",
        "\n",
        "\n",
        "plt.figure(figsize=(6,4))\n",
        "\n",
        "ax = sns.countplot(x='class', data=df_test, palette=\"mako\")\n",
        "\n",
        "plt.xlabel(\"Class\", fontsize= 12)\n",
        "plt.ylabel(\"# of Samples\", fontsize= 12)\n",
        "plt.ylim(0,5000)\n",
        "plt.xticks([0,1], ['Normal', 'Pneumonia'], fontsize = 11)\n",
        "\n",
        "for p in ax.patches:\n",
        "    ax.annotate((p.get_height()), (p.get_x()+0.30, p.get_height()+300), fontsize = 13)\n",
        "\n",
        "plt.show()"
      ],
      "metadata": {
        "colab": {
          "base_uri": "https://localhost:8080/",
          "height": 555
        },
        "id": "gADauZydM0e8",
        "outputId": "bebd2eff-1584-49a2-9bdc-cd3216682490"
      },
      "execution_count": null,
      "outputs": [
        {
          "output_type": "display_data",
          "data": {
            "text/plain": [
              "<Figure size 432x288 with 1 Axes>"
            ],
            "image/png": "[encoded data removed]"
          },
          "metadata": {
            "needs_background": "light"
          }
        },
        {
          "output_type": "display_data",
          "data": {
            "text/plain": [
              "<Figure size 432x288 with 1 Axes>"
            ],
            "image/png": "[encoded data removed]"
          },
          "metadata": {
            "needs_background": "light"
          }
        }
      ]
    },
    {
      "cell_type": "code",
      "source": [
        "plt.figure(figsize=(7,5))\n",
        "df_train['class'].value_counts().plot(kind='pie',labels = ['',''], autopct='%1.1f%%', colors = ['darkcyan','blue'], explode = [0,0.05], textprops = {\"fontsize\":15})\n",
        "plt.legend(labels=['Pneumonia', 'Normal'])\n",
        "plt.show()\n",
        "\n",
        "\n",
        "plt.figure(figsize=(7,5))\n",
        "df_test['class'].value_counts().plot(kind='pie',labels = ['',''], autopct='%1.1f%%', colors = ['darkcyan','blue'], explode = [0,0.05], textprops = {\"fontsize\":15})\n",
        "plt.legend(labels=['Pneumonia', 'Normal'])\n",
        "plt.show()"
      ],
      "metadata": {
        "colab": {
          "base_uri": "https://localhost:8080/",
          "height": 589
        },
        "id": "uu1n8uDTM0gu",
        "outputId": "e7cb7188-5f58-4877-f933-2ea3d1d59cc2"
      },
      "execution_count": null,
      "outputs": [
        {
          "output_type": "display_data",
          "data": {
            "text/plain": [
              "<Figure size 504x360 with 1 Axes>"
            ],
            "image/png": "[encoded data removed]"
          },
          "metadata": {}
        },
        {
          "output_type": "display_data",
          "data": {
            "text/plain": [
              "<Figure size 504x360 with 1 Axes>"
            ],
            "image/png": "[encoded data removed]"
          },
          "metadata": {}
        }
      ]
    },
    {
      "cell_type": "markdown",
      "source": [
        "# Preparation of the dataset for model building"
      ],
      "metadata": {
        "id": "5IfwBRZvPFbc"
      }
    },
    {
      "cell_type": "code",
      "source": [
        "train_df, val_df = train_test_split(df_train, test_size = 0.20, random_state = Seed, stratify = df_train['class']) #Using 20% to create validation dataset"
      ],
      "metadata": {
        "id": "_TzWwlfTPENk"
      },
      "execution_count": null,
      "outputs": []
    },
    {
      "cell_type": "code",
      "source": [
        "train_df"
      ],
      "metadata": {
        "colab": {
          "base_uri": "https://localhost:8080/",
          "height": 424
        },
        "id": "J7TZvCRBPE7s",
        "outputId": "7478e008-098c-48e2-9c32-eff08596d524"
      },
      "execution_count": null,
      "outputs": [
        {
          "output_type": "execute_result",
          "data": {
            "text/plain": [
              "          class  \\\n",
              "3567  Pneumonia   \n",
              "2867  Pneumonia   \n",
              "1769  Pneumonia   \n",
              "1199     Normal   \n",
              "4200  Pneumonia   \n",
              "...         ...   \n",
              "3500  Pneumonia   \n",
              "678      Normal   \n",
              "3683  Pneumonia   \n",
              "4199  Pneumonia   \n",
              "1924  Pneumonia   \n",
              "\n",
              "                                                                                             image  \n",
              "3567  /content/drive/MyDrive/Colab Notebooks/chest_xray/train/PNEUMONIA/BACTERIA-4816687-0002.jpeg  \n",
              "2867  /content/drive/MyDrive/Colab Notebooks/chest_xray/train/PNEUMONIA/BACTERIA-9613278-0001.jpeg  \n",
              "1769     /content/drive/MyDrive/Colab Notebooks/chest_xray/train/PNEUMONIA/VIRUS-5715030-0001.jpeg  \n",
              "1199       /content/drive/MyDrive/Colab Notebooks/chest_xray/train/NORMAL/NORMAL-2460811-0002.jpeg  \n",
              "4200  /content/drive/MyDrive/Colab Notebooks/chest_xray/train/PNEUMONIA/BACTERIA-7433321-0001.jpeg  \n",
              "...                                                                                            ...  \n",
              "3500  /content/drive/MyDrive/Colab Notebooks/chest_xray/train/PNEUMONIA/BACTERIA-4719778-0003.jpeg  \n",
              "678        /content/drive/MyDrive/Colab Notebooks/chest_xray/train/NORMAL/NORMAL-7824011-0001.jpeg  \n",
              "3683  /content/drive/MyDrive/Colab Notebooks/chest_xray/train/PNEUMONIA/BACTERIA-5366209-0001.jpeg  \n",
              "4199  /content/drive/MyDrive/Colab Notebooks/chest_xray/train/PNEUMONIA/BACTERIA-6660139-0002.jpeg  \n",
              "1924     /content/drive/MyDrive/Colab Notebooks/chest_xray/train/PNEUMONIA/VIRUS-7178682-0001.jpeg  \n",
              "\n",
              "[4186 rows x 2 columns]"
            ],
            "text/html": [
              "\n",
              "  <div id=\"df-fef07c6e-56b5-4f20-8e58-c6ecf5824ac4\">\n",
              "    <div class=\"colab-df-container\">\n",
              "      <div>\n",
              "<style scoped>\n",
              "    .dataframe tbody tr th:only-of-type {\n",
              "        vertical-align: middle;\n",
              "    }\n",
              "\n",
              "    .dataframe tbody tr th {\n",
              "        vertical-align: top;\n",
              "    }\n",
              "\n",
              "    .dataframe thead th {\n",
              "        text-align: right;\n",
              "    }\n",
              "</style>\n",
              "<table border=\"1\" class=\"dataframe\">\n",
              "  <thead>\n",
              "    <tr style=\"text-align: right;\">\n",
              "      <th></th>\n",
              "      <th>class</th>\n",
              "      <th>image</th>\n",
              "    </tr>\n",
              "  </thead>\n",
              "  <tbody>\n",
              "    <tr>\n",
              "      <th>3567</th>\n",
              "      <td>Pneumonia</td>\n",
              "      <td>/content/drive/MyDrive/Colab Notebooks/chest_xray/train/PNEUMONIA/BACTERIA-4816687-0002.jpeg</td>\n",
              "    </tr>\n",
              "    <tr>\n",
              "      <th>2867</th>\n",
              "      <td>Pneumonia</td>\n",
              "      <td>/content/drive/MyDrive/Colab Notebooks/chest_xray/train/PNEUMONIA/BACTERIA-9613278-0001.jpeg</td>\n",
              "    </tr>\n",
              "    <tr>\n",
              "      <th>1769</th>\n",
              "      <td>Pneumonia</td>\n",
              "      <td>/content/drive/MyDrive/Colab Notebooks/chest_xray/train/PNEUMONIA/VIRUS-5715030-0001.jpeg</td>\n",
              "    </tr>\n",
              "    <tr>\n",
              "      <th>1199</th>\n",
              "      <td>Normal</td>\n",
              "      <td>/content/drive/MyDrive/Colab Notebooks/chest_xray/train/NORMAL/NORMAL-2460811-0002.jpeg</td>\n",
              "    </tr>\n",
              "    <tr>\n",
              "      <th>4200</th>\n",
              "      <td>Pneumonia</td>\n",
              "      <td>/content/drive/MyDrive/Colab Notebooks/chest_xray/train/PNEUMONIA/BACTERIA-7433321-0001.jpeg</td>\n",
              "    </tr>\n",
              "    <tr>\n",
              "      <th>...</th>\n",
              "      <td>...</td>\n",
              "      <td>...</td>\n",
              "    </tr>\n",
              "    <tr>\n",
              "      <th>3500</th>\n",
              "      <td>Pneumonia</td>\n",
              "      <td>/content/drive/MyDrive/Colab Notebooks/chest_xray/train/PNEUMONIA/BACTERIA-4719778-0003.jpeg</td>\n",
              "    </tr>\n",
              "    <tr>\n",
              "      <th>678</th>\n",
              "      <td>Normal</td>\n",
              "      <td>/content/drive/MyDrive/Colab Notebooks/chest_xray/train/NORMAL/NORMAL-7824011-0001.jpeg</td>\n",
              "    </tr>\n",
              "    <tr>\n",
              "      <th>3683</th>\n",
              "      <td>Pneumonia</td>\n",
              "      <td>/content/drive/MyDrive/Colab Notebooks/chest_xray/train/PNEUMONIA/BACTERIA-5366209-0001.jpeg</td>\n",
              "    </tr>\n",
              "    <tr>\n",
              "      <th>4199</th>\n",
              "      <td>Pneumonia</td>\n",
              "      <td>/content/drive/MyDrive/Colab Notebooks/chest_xray/train/PNEUMONIA/BACTERIA-6660139-0002.jpeg</td>\n",
              "    </tr>\n",
              "    <tr>\n",
              "      <th>1924</th>\n",
              "      <td>Pneumonia</td>\n",
              "      <td>/content/drive/MyDrive/Colab Notebooks/chest_xray/train/PNEUMONIA/VIRUS-7178682-0001.jpeg</td>\n",
              "    </tr>\n",
              "  </tbody>\n",
              "</table>\n",
              "<p>4186 rows × 2 columns</p>\n",
              "</div>\n",
              "      <button class=\"colab-df-convert\" onclick=\"convertToInteractive('df-fef07c6e-56b5-4f20-8e58-c6ecf5824ac4')\"\n",
              "              title=\"Convert this dataframe to an interactive table.\"\n",
              "              style=\"display:none;\">\n",
              "        \n",
              "  <svg xmlns=\"http://www.w3.org/2000/svg\" height=\"24px\"viewBox=\"0 0 24 24\"\n",
              "       width=\"24px\">\n",
              "    <path d=\"M0 0h24v24H0V0z\" fill=\"none\"/>\n",
              "    <path d=\"M18.56 5.44l.94 2.06.94-2.06 2.06-.94-2.06-.94-.94-2.06-.94 2.06-2.06.94zm-11 1L8.5 8.5l.94-2.06 2.06-.94-2.06-.94L8.5 2.5l-.94 2.06-2.06.94zm10 10l.94 2.06.94-2.06 2.06-.94-2.06-.94-.94-2.06-.94 2.06-2.06.94z\"/><path d=\"M17.41 7.96l-1.37-1.37c-.4-.4-.92-.59-1.43-.59-.52 0-1.04.2-1.43.59L10.3 9.45l-7.72 7.72c-.78.78-.78 2.05 0 2.83L4 21.41c.39.39.9.59 1.41.59.51 0 1.02-.2 1.41-.59l7.78-7.78 2.81-2.81c.8-.78.8-2.07 0-2.86zM5.41 20L4 18.59l7.72-7.72 1.47 1.35L5.41 20z\"/>\n",
              "  </svg>\n",
              "      </button>\n",
              "      \n",
              "  <style>\n",
              "    .colab-df-container {\n",
              "      display:flex;\n",
              "      flex-wrap:wrap;\n",
              "      gap: 12px;\n",
              "    }\n",
              "\n",
              "    .colab-df-convert {\n",
              "      background-color: #E8F0FE;\n",
              "      border: none;\n",
              "      border-radius: 50%;\n",
              "      cursor: pointer;\n",
              "      display: none;\n",
              "      fill: #1967D2;\n",
              "      height: 32px;\n",
              "      padding: 0 0 0 0;\n",
              "      width: 32px;\n",
              "    }\n",
              "\n",
              "    .colab-df-convert:hover {\n",
              "      background-color: #E2EBFA;\n",
              "      box-shadow: 0px 1px 2px rgba(60, 64, 67, 0.3), 0px 1px 3px 1px rgba(60, 64, 67, 0.15);\n",
              "      fill: #174EA6;\n",
              "    }\n",
              "\n",
              "    [theme=dark] .colab-df-convert {\n",
              "      background-color: #3B4455;\n",
              "      fill: #D2E3FC;\n",
              "    }\n",
              "\n",
              "    [theme=dark] .colab-df-convert:hover {\n",
              "      background-color: #434B5C;\n",
              "      box-shadow: 0px 1px 3px 1px rgba(0, 0, 0, 0.15);\n",
              "      filter: drop-shadow(0px 1px 2px rgba(0, 0, 0, 0.3));\n",
              "      fill: #FFFFFF;\n",
              "    }\n",
              "  </style>\n",
              "\n",
              "      <script>\n",
              "        const buttonEl =\n",
              "          document.querySelector('#df-fef07c6e-56b5-4f20-8e58-c6ecf5824ac4 button.colab-df-convert');\n",
              "        buttonEl.style.display =\n",
              "          google.colab.kernel.accessAllowed ? 'block' : 'none';\n",
              "\n",
              "        async function convertToInteractive(key) {\n",
              "          const element = document.querySelector('#df-fef07c6e-56b5-4f20-8e58-c6ecf5824ac4');\n",
              "          const dataTable =\n",
              "            await google.colab.kernel.invokeFunction('convertToInteractive',\n",
              "                                                     [key], {});\n",
              "          if (!dataTable) return;\n",
              "\n",
              "          const docLinkHtml = 'Like what you see? Visit the ' +\n",
              "            '<a target=\"_blank\" href=https://colab.research.google.com/notebooks/data_table.ipynb>data table notebook</a>'\n",
              "            + ' to learn more about interactive tables.';\n",
              "          element.innerHTML = '';\n",
              "          dataTable['output_type'] = 'display_data';\n",
              "          await google.colab.output.renderOutput(dataTable, element);\n",
              "          const docLink = document.createElement('div');\n",
              "          docLink.innerHTML = docLinkHtml;\n",
              "          element.appendChild(docLink);\n",
              "        }\n",
              "      </script>\n",
              "    </div>\n",
              "  </div>\n",
              "  "
            ]
          },
          "metadata": {},
          "execution_count": 9
        }
      ]
    },
    {
      "cell_type": "code",
      "source": [
        "val_df"
      ],
      "metadata": {
        "colab": {
          "base_uri": "https://localhost:8080/",
          "height": 424
        },
        "id": "il525ZJNPE9z",
        "outputId": "b8da54d8-3b25-4969-ef39-9d46d7b43158"
      },
      "execution_count": null,
      "outputs": [
        {
          "output_type": "execute_result",
          "data": {
            "text/plain": [
              "          class  \\\n",
              "2946  Pneumonia   \n",
              "4879  Pneumonia   \n",
              "3178  Pneumonia   \n",
              "627      Normal   \n",
              "3060  Pneumonia   \n",
              "...         ...   \n",
              "896      Normal   \n",
              "4316  Pneumonia   \n",
              "1240     Normal   \n",
              "3418  Pneumonia   \n",
              "3746  Pneumonia   \n",
              "\n",
              "                                                                                             image  \n",
              "2946  /content/drive/MyDrive/Colab Notebooks/chest_xray/train/PNEUMONIA/BACTERIA-9203081-0001.jpeg  \n",
              "4879   /content/drive/MyDrive/Colab Notebooks/chest_xray/train/PNEUMONIA/BACTERIA-324273-0007.jpeg  \n",
              "3178     /content/drive/MyDrive/Colab Notebooks/chest_xray/train/PNEUMONIA/VIRUS-2358368-0003.jpeg  \n",
              "627        /content/drive/MyDrive/Colab Notebooks/chest_xray/train/NORMAL/NORMAL-7323530-0002.jpeg  \n",
              "3060   /content/drive/MyDrive/Colab Notebooks/chest_xray/train/PNEUMONIA/BACTERIA-990412-0003.jpeg  \n",
              "...                                                                                            ...  \n",
              "896        /content/drive/MyDrive/Colab Notebooks/chest_xray/train/NORMAL/NORMAL-9424515-0001.jpeg  \n",
              "4316   /content/drive/MyDrive/Colab Notebooks/chest_xray/train/PNEUMONIA/BACTERIA-828649-0004.jpeg  \n",
              "1240       /content/drive/MyDrive/Colab Notebooks/chest_xray/train/NORMAL/NORMAL-2528215-0001.jpeg  \n",
              "3418  /content/drive/MyDrive/Colab Notebooks/chest_xray/train/PNEUMONIA/BACTERIA-4091020-0001.jpeg  \n",
              "3746  /content/drive/MyDrive/Colab Notebooks/chest_xray/train/PNEUMONIA/BACTERIA-5545313-0001.jpeg  \n",
              "\n",
              "[1047 rows x 2 columns]"
            ],
            "text/html": [
              "\n",
              "  <div id=\"df-1166ef66-3e90-4e05-ac18-8751c83f6972\">\n",
              "    <div class=\"colab-df-container\">\n",
              "      <div>\n",
              "<style scoped>\n",
              "    .dataframe tbody tr th:only-of-type {\n",
              "        vertical-align: middle;\n",
              "    }\n",
              "\n",
              "    .dataframe tbody tr th {\n",
              "        vertical-align: top;\n",
              "    }\n",
              "\n",
              "    .dataframe thead th {\n",
              "        text-align: right;\n",
              "    }\n",
              "</style>\n",
              "<table border=\"1\" class=\"dataframe\">\n",
              "  <thead>\n",
              "    <tr style=\"text-align: right;\">\n",
              "      <th></th>\n",
              "      <th>class</th>\n",
              "      <th>image</th>\n",
              "    </tr>\n",
              "  </thead>\n",
              "  <tbody>\n",
              "    <tr>\n",
              "      <th>2946</th>\n",
              "      <td>Pneumonia</td>\n",
              "      <td>/content/drive/MyDrive/Colab Notebooks/chest_xray/train/PNEUMONIA/BACTERIA-9203081-0001.jpeg</td>\n",
              "    </tr>\n",
              "    <tr>\n",
              "      <th>4879</th>\n",
              "      <td>Pneumonia</td>\n",
              "      <td>/content/drive/MyDrive/Colab Notebooks/chest_xray/train/PNEUMONIA/BACTERIA-324273-0007.jpeg</td>\n",
              "    </tr>\n",
              "    <tr>\n",
              "      <th>3178</th>\n",
              "      <td>Pneumonia</td>\n",
              "      <td>/content/drive/MyDrive/Colab Notebooks/chest_xray/train/PNEUMONIA/VIRUS-2358368-0003.jpeg</td>\n",
              "    </tr>\n",
              "    <tr>\n",
              "      <th>627</th>\n",
              "      <td>Normal</td>\n",
              "      <td>/content/drive/MyDrive/Colab Notebooks/chest_xray/train/NORMAL/NORMAL-7323530-0002.jpeg</td>\n",
              "    </tr>\n",
              "    <tr>\n",
              "      <th>3060</th>\n",
              "      <td>Pneumonia</td>\n",
              "      <td>/content/drive/MyDrive/Colab Notebooks/chest_xray/train/PNEUMONIA/BACTERIA-990412-0003.jpeg</td>\n",
              "    </tr>\n",
              "    <tr>\n",
              "      <th>...</th>\n",
              "      <td>...</td>\n",
              "      <td>...</td>\n",
              "    </tr>\n",
              "    <tr>\n",
              "      <th>896</th>\n",
              "      <td>Normal</td>\n",
              "      <td>/content/drive/MyDrive/Colab Notebooks/chest_xray/train/NORMAL/NORMAL-9424515-0001.jpeg</td>\n",
              "    </tr>\n",
              "    <tr>\n",
              "      <th>4316</th>\n",
              "      <td>Pneumonia</td>\n",
              "      <td>/content/drive/MyDrive/Colab Notebooks/chest_xray/train/PNEUMONIA/BACTERIA-828649-0004.jpeg</td>\n",
              "    </tr>\n",
              "    <tr>\n",
              "      <th>1240</th>\n",
              "      <td>Normal</td>\n",
              "      <td>/content/drive/MyDrive/Colab Notebooks/chest_xray/train/NORMAL/NORMAL-2528215-0001.jpeg</td>\n",
              "    </tr>\n",
              "    <tr>\n",
              "      <th>3418</th>\n",
              "      <td>Pneumonia</td>\n",
              "      <td>/content/drive/MyDrive/Colab Notebooks/chest_xray/train/PNEUMONIA/BACTERIA-4091020-0001.jpeg</td>\n",
              "    </tr>\n",
              "    <tr>\n",
              "      <th>3746</th>\n",
              "      <td>Pneumonia</td>\n",
              "      <td>/content/drive/MyDrive/Colab Notebooks/chest_xray/train/PNEUMONIA/BACTERIA-5545313-0001.jpeg</td>\n",
              "    </tr>\n",
              "  </tbody>\n",
              "</table>\n",
              "<p>1047 rows × 2 columns</p>\n",
              "</div>\n",
              "      <button class=\"colab-df-convert\" onclick=\"convertToInteractive('df-1166ef66-3e90-4e05-ac18-8751c83f6972')\"\n",
              "              title=\"Convert this dataframe to an interactive table.\"\n",
              "              style=\"display:none;\">\n",
              "        \n",
              "  <svg xmlns=\"http://www.w3.org/2000/svg\" height=\"24px\"viewBox=\"0 0 24 24\"\n",
              "       width=\"24px\">\n",
              "    <path d=\"M0 0h24v24H0V0z\" fill=\"none\"/>\n",
              "    <path d=\"M18.56 5.44l.94 2.06.94-2.06 2.06-.94-2.06-.94-.94-2.06-.94 2.06-2.06.94zm-11 1L8.5 8.5l.94-2.06 2.06-.94-2.06-.94L8.5 2.5l-.94 2.06-2.06.94zm10 10l.94 2.06.94-2.06 2.06-.94-2.06-.94-.94-2.06-.94 2.06-2.06.94z\"/><path d=\"M17.41 7.96l-1.37-1.37c-.4-.4-.92-.59-1.43-.59-.52 0-1.04.2-1.43.59L10.3 9.45l-7.72 7.72c-.78.78-.78 2.05 0 2.83L4 21.41c.39.39.9.59 1.41.59.51 0 1.02-.2 1.41-.59l7.78-7.78 2.81-2.81c.8-.78.8-2.07 0-2.86zM5.41 20L4 18.59l7.72-7.72 1.47 1.35L5.41 20z\"/>\n",
              "  </svg>\n",
              "      </button>\n",
              "      \n",
              "  <style>\n",
              "    .colab-df-container {\n",
              "      display:flex;\n",
              "      flex-wrap:wrap;\n",
              "      gap: 12px;\n",
              "    }\n",
              "\n",
              "    .colab-df-convert {\n",
              "      background-color: #E8F0FE;\n",
              "      border: none;\n",
              "      border-radius: 50%;\n",
              "      cursor: pointer;\n",
              "      display: none;\n",
              "      fill: #1967D2;\n",
              "      height: 32px;\n",
              "      padding: 0 0 0 0;\n",
              "      width: 32px;\n",
              "    }\n",
              "\n",
              "    .colab-df-convert:hover {\n",
              "      background-color: #E2EBFA;\n",
              "      box-shadow: 0px 1px 2px rgba(60, 64, 67, 0.3), 0px 1px 3px 1px rgba(60, 64, 67, 0.15);\n",
              "      fill: #174EA6;\n",
              "    }\n",
              "\n",
              "    [theme=dark] .colab-df-convert {\n",
              "      background-color: #3B4455;\n",
              "      fill: #D2E3FC;\n",
              "    }\n",
              "\n",
              "    [theme=dark] .colab-df-convert:hover {\n",
              "      background-color: #434B5C;\n",
              "      box-shadow: 0px 1px 3px 1px rgba(0, 0, 0, 0.15);\n",
              "      filter: drop-shadow(0px 1px 2px rgba(0, 0, 0, 0.3));\n",
              "      fill: #FFFFFF;\n",
              "    }\n",
              "  </style>\n",
              "\n",
              "      <script>\n",
              "        const buttonEl =\n",
              "          document.querySelector('#df-1166ef66-3e90-4e05-ac18-8751c83f6972 button.colab-df-convert');\n",
              "        buttonEl.style.display =\n",
              "          google.colab.kernel.accessAllowed ? 'block' : 'none';\n",
              "\n",
              "        async function convertToInteractive(key) {\n",
              "          const element = document.querySelector('#df-1166ef66-3e90-4e05-ac18-8751c83f6972');\n",
              "          const dataTable =\n",
              "            await google.colab.kernel.invokeFunction('convertToInteractive',\n",
              "                                                     [key], {});\n",
              "          if (!dataTable) return;\n",
              "\n",
              "          const docLinkHtml = 'Like what you see? Visit the ' +\n",
              "            '<a target=\"_blank\" href=https://colab.research.google.com/notebooks/data_table.ipynb>data table notebook</a>'\n",
              "            + ' to learn more about interactive tables.';\n",
              "          element.innerHTML = '';\n",
              "          dataTable['output_type'] = 'display_data';\n",
              "          await google.colab.output.renderOutput(dataTable, element);\n",
              "          const docLink = document.createElement('div');\n",
              "          docLink.innerHTML = docLinkHtml;\n",
              "          element.appendChild(docLink);\n",
              "        }\n",
              "      </script>\n",
              "    </div>\n",
              "  </div>\n",
              "  "
            ]
          },
          "metadata": {},
          "execution_count": 10
        }
      ]
    },
    {
      "cell_type": "code",
      "source": [
        "# https://vijayabhaskar96.medium.com/tutorial-on-keras-flow-from-dataframe-1fd4493d237c\n",
        "\n",
        "Image_size = 244\n",
        "\n",
        "DataGen_training = ImageDataGenerator(rescale=1/255.,\n",
        "                                  zoom_range = 0.1,\n",
        "                                  #rotation_range = 0.1,\n",
        "                                  width_shift_range = 0.1,\n",
        "                                  height_shift_range = 0.1)\n",
        "\n",
        "DataGen_validation = ImageDataGenerator(rescale=1/255.)\n",
        "\n",
        "dict_train = DataGen_training.flow_from_dataframe(train_df,\n",
        "                                             #directory=train_path, #dataframe contains the full paths\n",
        "                                             x_col = 'image',\n",
        "                                             y_col = 'class',\n",
        "                                             target_size = (Image_size, Image_size),\n",
        "                                             class_mode = 'binary',\n",
        "                                             batch_size = Batch_size,\n",
        "                                             seed = Seed)\n",
        "\n",
        "dict_val = DataGen_validation.flow_from_dataframe(val_df,\n",
        "                                            #directory=train_path,\n",
        "                                            x_col = 'image',\n",
        "                                            y_col = 'class',\n",
        "                                            target_size = (Image_size, Image_size),\n",
        "                                            class_mode = 'binary',\n",
        "                                            batch_size = Batch_size,\n",
        "                                            seed = Seed)\n",
        "\n",
        "dict_test = DataGen_validation.flow_from_dataframe(df_test,\n",
        "                                            #directory=test_path,\n",
        "                                            x_col = 'image',\n",
        "                                            y_col = 'class',\n",
        "                                            target_size = (Image_size, Image_size),\n",
        "                                            class_mode = 'binary',\n",
        "                                            batch_size = 1,\n",
        "                                            shuffle = False)"
      ],
      "metadata": {
        "colab": {
          "base_uri": "https://localhost:8080/"
        },
        "id": "3Uzi6jeWPFAD",
        "outputId": "aba52b16-0ebd-4404-ff09-a679bf9f9bf6"
      },
      "execution_count": null,
      "outputs": [
        {
          "output_type": "stream",
          "name": "stdout",
          "text": [
            "Found 4186 validated image filenames belonging to 2 classes.\n",
            "Found 1047 validated image filenames belonging to 2 classes.\n",
            "Found 624 validated image filenames belonging to 2 classes.\n"
          ]
        }
      ]
    },
    {
      "cell_type": "code",
      "source": [
        "# from sklearn.utils import class_weight\n",
        "\n",
        "# class_weights = {0: 2.0, 1: 1.0}"
      ],
      "metadata": {
        "id": "xCgmUvsCBKBe"
      },
      "execution_count": null,
      "outputs": []
    },
    {
      "cell_type": "markdown",
      "source": [
        "# **Building a Convolutional Layer Model**"
      ],
      "metadata": {
        "id": "vQL5FnE5Q5Hk"
      }
    },
    {
      "cell_type": "code",
      "source": [
        "def get_cnn_model():\n",
        "\n",
        "    inputs = layers.Input(shape=(Image_size, Image_size, 3))\n",
        "\n",
        "    # Block One\n",
        "    x = layers.Conv2D(filters=16, kernel_size=3, padding='valid')(inputs)\n",
        "    x = layers.BatchNormalization()(x)\n",
        "    x = layers.Activation('relu')(x)\n",
        "    x = layers.MaxPool2D()(x)\n",
        "    x = layers.Dropout(0.2)(x)\n",
        "\n",
        "    # Block Two\n",
        "    x = layers.Conv2D(filters=32, kernel_size=3, padding='valid')(x)\n",
        "    x = layers.BatchNormalization()(x)\n",
        "    x = layers.Activation('relu')(x)\n",
        "    x = layers.MaxPool2D()(x)\n",
        "    x = layers.Dropout(0.2)(x)\n",
        "\n",
        "    # Block Three\n",
        "    x = layers.Conv2D(filters=64, kernel_size=3, padding='valid')(x)\n",
        "    x = layers.Conv2D(filters=64, kernel_size=3, padding='valid')(x)\n",
        "    x = layers.BatchNormalization()(x)\n",
        "    x = layers.Activation('relu')(x)\n",
        "    x = layers.MaxPool2D()(x)\n",
        "    x = layers.Dropout(0.4)(x)\n",
        "\n",
        "    x = layers.Flatten()(x)\n",
        "    x = layers.Dense(64, activation='relu')(x)\n",
        "    x = layers.Dropout(0.5)(x)\n",
        "\n",
        "    #Final Layer (Output)\n",
        "    output = layers.Dense(1, activation='sigmoid')(x)\n",
        "\n",
        "    model_cnn = keras.Model(inputs=[inputs], outputs=output)\n",
        "\n",
        "    return model_cnn"
      ],
      "metadata": {
        "id": "1AHpDBm3PFCF"
      },
      "execution_count": null,
      "outputs": []
    },
    {
      "cell_type": "markdown",
      "source": [
        "## Convolutional Model Summary"
      ],
      "metadata": {
        "id": "OU0d-G2aZsx6"
      }
    },
    {
      "cell_type": "code",
      "source": [
        "keras.backend.clear_session()\n",
        "\n",
        "model = get_cnn_model()\n",
        "model.compile(loss='binary_crossentropy'\n",
        "              , optimizer = keras.optimizers.Adam(learning_rate=0.00001), metrics='binary_accuracy')\n",
        "\n",
        "model.summary()"
      ],
      "metadata": {
        "colab": {
          "base_uri": "https://localhost:8080/"
        },
        "id": "oXGSEq2wM0ib",
        "outputId": "92d3485a-3155-4d89-825c-eced7a6bb95b"
      },
      "execution_count": null,
      "outputs": [
        {
          "output_type": "stream",
          "name": "stdout",
          "text": [
            "Model: \"model\"\n",
            "_________________________________________________________________\n",
            " Layer (type)                Output Shape              Param #   \n",
            "=================================================================\n",
            " input_1 (InputLayer)        [(None, 244, 244, 3)]     0         \n",
            "                                                                 \n",
            " conv2d (Conv2D)             (None, 242, 242, 16)      448       \n",
            "                                                                 \n",
            " batch_normalization (BatchN  (None, 242, 242, 16)     64        \n",
            " ormalization)                                                   \n",
            "                                                                 \n",
            " activation (Activation)     (None, 242, 242, 16)      0         \n",
            "                                                                 \n",
            " max_pooling2d (MaxPooling2D  (None, 121, 121, 16)     0         \n",
            " )                                                               \n",
            "                                                                 \n",
            " dropout (Dropout)           (None, 121, 121, 16)      0         \n",
            "                                                                 \n",
            " conv2d_1 (Conv2D)           (None, 119, 119, 32)      4640      \n",
            "                                                                 \n",
            " batch_normalization_1 (Batc  (None, 119, 119, 32)     128       \n",
            " hNormalization)                                                 \n",
            "                                                                 \n",
            " activation_1 (Activation)   (None, 119, 119, 32)      0         \n",
            "                                                                 \n",
            " max_pooling2d_1 (MaxPooling  (None, 59, 59, 32)       0         \n",
            " 2D)                                                             \n",
            "                                                                 \n",
            " dropout_1 (Dropout)         (None, 59, 59, 32)        0         \n",
            "                                                                 \n",
            " conv2d_2 (Conv2D)           (None, 57, 57, 64)        18496     \n",
            "                                                                 \n",
            " conv2d_3 (Conv2D)           (None, 55, 55, 64)        36928     \n",
            "                                                                 \n",
            " batch_normalization_2 (Batc  (None, 55, 55, 64)       256       \n",
            " hNormalization)                                                 \n",
            "                                                                 \n",
            " activation_2 (Activation)   (None, 55, 55, 64)        0         \n",
            "                                                                 \n",
            " max_pooling2d_2 (MaxPooling  (None, 27, 27, 64)       0         \n",
            " 2D)                                                             \n",
            "                                                                 \n",
            " dropout_2 (Dropout)         (None, 27, 27, 64)        0         \n",
            "                                                                 \n",
            " flatten (Flatten)           (None, 46656)             0         \n",
            "                                                                 \n",
            " dense (Dense)               (None, 64)                2986048   \n",
            "                                                                 \n",
            " dropout_3 (Dropout)         (None, 64)                0         \n",
            "                                                                 \n",
            " dense_1 (Dense)             (None, 1)                 65        \n",
            "                                                                 \n",
            "=================================================================\n",
            "Total params: 3,047,073\n",
            "Trainable params: 3,046,849\n",
            "Non-trainable params: 224\n",
            "_________________________________________________________________\n"
          ]
        }
      ]
    },
    {
      "cell_type": "code",
      "source": [
        "history_cnn = model.fit(dict_train,\n",
        "          batch_size = Batch_size, epochs = 15,\n",
        "          validation_data=dict_val,\n",
        "          steps_per_epoch=(len(train_df)/Batch_size),\n",
        "          validation_steps=(len(val_df)/Batch_size));"
      ],
      "metadata": {
        "colab": {
          "base_uri": "https://localhost:8080/"
        },
        "id": "rAdieFWMQpwE",
        "outputId": "ecbf1b73-4518-471e-b687-b239646e2d5b"
      },
      "execution_count": null,
      "outputs": [
        {
          "output_type": "stream",
          "name": "stdout",
          "text": [
            "Epoch 1/15\n",
            "130/130 [==============================] - 505s 4s/step - loss: 0.5398 - binary_accuracy: 0.7647 - val_loss: 0.8021 - val_binary_accuracy: 0.7421\n",
            "Epoch 2/15\n",
            "130/130 [==============================] - 110s 844ms/step - loss: 0.3671 - binary_accuracy: 0.8359 - val_loss: 1.3745 - val_binary_accuracy: 0.7421\n",
            "Epoch 3/15\n",
            "130/130 [==============================] - 110s 843ms/step - loss: 0.3125 - binary_accuracy: 0.8586 - val_loss: 1.4221 - val_binary_accuracy: 0.7421\n",
            "Epoch 4/15\n",
            "130/130 [==============================] - 110s 844ms/step - loss: 0.2879 - binary_accuracy: 0.8731 - val_loss: 0.8885 - val_binary_accuracy: 0.7431\n",
            "Epoch 5/15\n",
            "130/130 [==============================] - 110s 844ms/step - loss: 0.2549 - binary_accuracy: 0.8954 - val_loss: 0.3422 - val_binary_accuracy: 0.8290\n",
            "Epoch 6/15\n",
            "130/130 [==============================] - 111s 846ms/step - loss: 0.2321 - binary_accuracy: 0.8989 - val_loss: 0.1762 - val_binary_accuracy: 0.9341\n",
            "Epoch 7/15\n",
            "130/130 [==============================] - 111s 847ms/step - loss: 0.2285 - binary_accuracy: 0.9109 - val_loss: 0.1978 - val_binary_accuracy: 0.9112\n",
            "Epoch 8/15\n",
            "130/130 [==============================] - 111s 847ms/step - loss: 0.2161 - binary_accuracy: 0.9126 - val_loss: 0.2014 - val_binary_accuracy: 0.9093\n",
            "Epoch 9/15\n",
            "130/130 [==============================] - 110s 844ms/step - loss: 0.2069 - binary_accuracy: 0.9183 - val_loss: 0.2127 - val_binary_accuracy: 0.9035\n",
            "Epoch 10/15\n",
            "130/130 [==============================] - 110s 842ms/step - loss: 0.2031 - binary_accuracy: 0.9200 - val_loss: 0.1936 - val_binary_accuracy: 0.9102\n",
            "Epoch 11/15\n",
            "130/130 [==============================] - 109s 833ms/step - loss: 0.1904 - binary_accuracy: 0.9271 - val_loss: 0.1842 - val_binary_accuracy: 0.9226\n",
            "Epoch 12/15\n",
            "130/130 [==============================] - 109s 837ms/step - loss: 0.1905 - binary_accuracy: 0.9231 - val_loss: 0.1877 - val_binary_accuracy: 0.9188\n",
            "Epoch 13/15\n",
            "130/130 [==============================] - 110s 842ms/step - loss: 0.1869 - binary_accuracy: 0.9216 - val_loss: 0.1952 - val_binary_accuracy: 0.9121\n",
            "Epoch 14/15\n",
            "130/130 [==============================] - 110s 843ms/step - loss: 0.1744 - binary_accuracy: 0.9281 - val_loss: 0.1671 - val_binary_accuracy: 0.9284\n",
            "Epoch 15/15\n",
            "130/130 [==============================] - 111s 851ms/step - loss: 0.1776 - binary_accuracy: 0.9307 - val_loss: 0.1865 - val_binary_accuracy: 0.9198\n"
          ]
        }
      ]
    },
    {
      "cell_type": "markdown",
      "source": [
        "##**Evaluating the performance of the model on the testing dataset**"
      ],
      "metadata": {
        "id": "wez2PET4R80t"
      }
    },
    {
      "cell_type": "code",
      "source": [
        "score = model.evaluate(dict_val, steps = len(val_df)/Batch_size, verbose = 0)\n",
        "print('Val loss:', score[0]*100, '%')\n",
        "print('Val accuracy:', score[1]*100, '%')"
      ],
      "metadata": {
        "colab": {
          "base_uri": "https://localhost:8080/"
        },
        "id": "lRHMJ8YvQpyU",
        "outputId": "009c9907-e516-4b26-fd9d-de17f79644e6"
      },
      "execution_count": null,
      "outputs": [
        {
          "output_type": "stream",
          "name": "stdout",
          "text": [
            "Val loss: 18.648897111415863 %\n",
            "Val accuracy: 91.97707772254944 %\n"
          ]
        }
      ]
    },
    {
      "cell_type": "code",
      "source": [
        "score = model.evaluate(dict_test, steps = len(df_test), verbose = 0)\n",
        "\n",
        "print('Test loss:', score[0]*100, '%')\n",
        "print('Test accuracy:', score[1]*100, '%')"
      ],
      "metadata": {
        "colab": {
          "base_uri": "https://localhost:8080/"
        },
        "id": "WfAtRtR4Qp0T",
        "outputId": "b239e8ff-2d3d-453f-9c20-42612a6466af"
      },
      "execution_count": null,
      "outputs": [
        {
          "output_type": "stream",
          "name": "stdout",
          "text": [
            "Test loss: 21.073627471923828 %\n",
            "Test accuracy: 90.70512652397156 %\n"
          ]
        }
      ]
    },
    {
      "cell_type": "markdown",
      "source": [
        "##**Plotting Losses (Training dataset vs. Valdiation dataset) where X axis are the epochs**"
      ],
      "metadata": {
        "id": "C8Q2gWF3RdDs"
      }
    },
    {
      "cell_type": "code",
      "source": [
        "losses = pd.DataFrame(history_cnn.history)\n",
        "losses\n",
        "losses[['loss', 'val_loss']].plot()"
      ],
      "metadata": {
        "colab": {
          "base_uri": "https://localhost:8080/",
          "height": 282
        },
        "id": "QbXjd9PRQp2c",
        "outputId": "3342d506-0ddb-4f6e-c326-46bdb73c6676"
      },
      "execution_count": null,
      "outputs": [
        {
          "output_type": "execute_result",
          "data": {
            "text/plain": [
              "<Axes: >"
            ]
          },
          "metadata": {},
          "execution_count": 37
        },
        {
          "output_type": "display_data",
          "data": {
            "text/plain": [
              "<Figure size 432x288 with 1 Axes>"
            ],
            "image/png": "[encoded data removed]"
          },
          "metadata": {
            "needs_background": "light"
          }
        }
      ]
    },
    {
      "cell_type": "markdown",
      "source": [
        "##**Plotting Accuracy (Training dataset vs. Valdiation dataset) where X axis are the epochs**"
      ],
      "metadata": {
        "id": "uU5T8q5SRqA9"
      }
    },
    {
      "cell_type": "code",
      "source": [
        "losses[['binary_accuracy', 'val_binary_accuracy']].plot()"
      ],
      "metadata": {
        "colab": {
          "base_uri": "https://localhost:8080/",
          "height": 282
        },
        "id": "GF6SjuY35f5O",
        "outputId": "e85cf155-8aa2-495a-8111-e6aad47ebb0f"
      },
      "execution_count": null,
      "outputs": [
        {
          "output_type": "execute_result",
          "data": {
            "text/plain": [
              "<Axes: >"
            ]
          },
          "metadata": {},
          "execution_count": 38
        },
        {
          "output_type": "display_data",
          "data": {
            "text/plain": [
              "<Figure size 432x288 with 1 Axes>"
            ],
            "image/png": "[encoded data removed]"
          },
          "metadata": {
            "needs_background": "light"
          }
        }
      ]
    },
    {
      "cell_type": "markdown",
      "source": [
        "**Prediction of the Samples using the trained cnn model**"
      ],
      "metadata": {
        "id": "FihUEJwvSJ1s"
      }
    },
    {
      "cell_type": "code",
      "source": [
        "num_label_cnn = {'Normal': 0, 'Pneumonia' : 1}\n",
        "Y_test_cnn = df_test['class'].copy().map(num_label_cnn).astype('int')"
      ],
      "metadata": {
        "id": "uPPvy19yBMfM"
      },
      "execution_count": null,
      "outputs": []
    },
    {
      "cell_type": "code",
      "source": [
        "dict_test.reset()\n",
        "predictions_cnn = model.predict(dict_test, steps=len(dict_test), verbose=0)\n",
        "pred_labels_cnn= np.where(predictions_cnn>0.5, 1, 0)"
      ],
      "metadata": {
        "id": "vL2U5jIABZdj"
      },
      "execution_count": null,
      "outputs": []
    },
    {
      "cell_type": "code",
      "source": [
        "print(\"Test Accuracy: \", accuracy_score(Y_test_cnn, pred_labels_cnn)*100, '%')"
      ],
      "metadata": {
        "colab": {
          "base_uri": "https://localhost:8080/"
        },
        "id": "9zeoBJOoBmer",
        "outputId": "a88b54c9-42fc-43e7-9ae0-959d2a558119"
      },
      "execution_count": null,
      "outputs": [
        {
          "output_type": "stream",
          "name": "stdout",
          "text": [
            "Test Accuracy:  90.7051282051282 %\n"
          ]
        }
      ]
    },
    {
      "cell_type": "code",
      "source": [
        "# model.save('/content/drive/MyDrive/Colab Notebooks/CNN_Model1.h5')"
      ],
      "metadata": {
        "id": "A1bGBil05LgQ"
      },
      "execution_count": null,
      "outputs": []
    },
    {
      "cell_type": "markdown",
      "source": [
        "##**Calculating Precision, Recall, f1-score and Support metrics on the test dataset using the trained model**"
      ],
      "metadata": {
        "id": "a5-QlSGSSV0s"
      }
    },
    {
      "cell_type": "code",
      "source": [
        "print(metrics.classification_report(Y_test_cnn, pred_labels_cnn, labels = [0, 1]))"
      ],
      "metadata": {
        "colab": {
          "base_uri": "https://localhost:8080/"
        },
        "id": "TVNWe3zSBtYz",
        "outputId": "5958b4a6-ea7f-4e3a-9a47-f4b2d0089917"
      },
      "execution_count": null,
      "outputs": [
        {
          "output_type": "stream",
          "name": "stdout",
          "text": [
            "              precision    recall  f1-score   support\n",
            "\n",
            "           0       0.88      0.87      0.88       234\n",
            "           1       0.92      0.93      0.93       390\n",
            "\n",
            "    accuracy                           0.91       624\n",
            "   macro avg       0.90      0.90      0.90       624\n",
            "weighted avg       0.91      0.91      0.91       624\n",
            "\n"
          ]
        }
      ]
    },
    {
      "cell_type": "markdown",
      "source": [
        "##**Plotting a Roc graph to show performance of the model at all thresholds**"
      ],
      "metadata": {
        "id": "cWlvabv2S-0d"
      }
    },
    {
      "cell_type": "code",
      "source": [
        "roc_auc = metrics.roc_auc_score(Y_test_cnn, predictions_cnn)\n",
        "print('ROC_AUC: ', roc_auc)\n",
        "\n",
        "fpr, tpr, thresholds = metrics.roc_curve(Y_test_cnn, predictions_cnn)\n",
        "\n",
        "plt.plot(fpr, tpr, label = 'ROC_AUC = %0.3f' % roc_auc)\n",
        "\n",
        "plt.xlabel(\"False Positive Rate\", fontsize= 12)\n",
        "plt.ylabel(\"True Positive Rate\", fontsize= 12)\n",
        "plt.legend(loc=\"lower right\")\n",
        "\n",
        "plt.show()"
      ],
      "metadata": {
        "colab": {
          "base_uri": "https://localhost:8080/",
          "height": 299
        },
        "id": "kGcTxhc0BwYS",
        "outputId": "af139da6-9331-42b8-d534-2c0a39199b04"
      },
      "execution_count": null,
      "outputs": [
        {
          "output_type": "stream",
          "name": "stdout",
          "text": [
            "ROC_AUC:  0.9737234275695814\n"
          ]
        },
        {
          "output_type": "display_data",
          "data": {
            "text/plain": [
              "<Figure size 432x288 with 1 Axes>"
            ],
            "image/png": "[encoded data removed]"
          },
          "metadata": {
            "needs_background": "light"
          }
        }
      ]
    },
    {
      "cell_type": "markdown",
      "source": [
        "**Confusion matrix**"
      ],
      "metadata": {
        "id": "-z800jthTSvE"
      }
    },
    {
      "cell_type": "code",
      "source": [
        "from sklearn.metrics import classification_report, confusion_matrix\n",
        "\n",
        "confusion_matrix = metrics.confusion_matrix(Y_test_cnn, pred_labels_cnn)\n",
        "sns.heatmap(confusion_matrix, annot=True, fmt=\"d\")\n",
        "\n",
        "plt.xlabel(\"Predicted Label\", fontsize= 12)\n",
        "plt.ylabel(\"True Label\", fontsize= 12)\n",
        "\n",
        "plt.show()"
      ],
      "metadata": {
        "colab": {
          "base_uri": "https://localhost:8080/",
          "height": 282
        },
        "id": "3ToqyUt4MjgP",
        "outputId": "0283d69e-2623-404a-dd63-9303cb4595ca"
      },
      "execution_count": null,
      "outputs": [
        {
          "output_type": "display_data",
          "data": {
            "text/plain": [
              "<Figure size 432x288 with 2 Axes>"
            ],
            "image/png": "[encoded data removed]"
          },
          "metadata": {
            "needs_background": "light"
          }
        }
      ]
    },
    {
      "cell_type": "code",
      "source": [
        "Y_test_value = Y_test_cnn.values.flatten()"
      ],
      "metadata": {
        "id": "4wNKDtmtOH4H"
      },
      "execution_count": null,
      "outputs": []
    },
    {
      "cell_type": "markdown",
      "source": [
        "##**Showing incorrectly predicted samples in the dataset**"
      ],
      "metadata": {
        "id": "p-9Kg0r9TaeV"
      }
    },
    {
      "cell_type": "code",
      "source": [
        "results = pd.DataFrame({'Actual': Y_test_value.flatten(), 'Predicted': pred_labels_cnn.flatten()})\n",
        "incorrect_df = results[results.Actual!=results.Predicted]\n",
        "incorrect_df"
      ],
      "metadata": {
        "colab": {
          "base_uri": "https://localhost:8080/",
          "height": 1000
        },
        "id": "Mru7WmVcNN9v",
        "outputId": "a9561270-77a8-4507-8294-6b4a0af7cc9e"
      },
      "execution_count": null,
      "outputs": [
        {
          "output_type": "execute_result",
          "data": {
            "text/plain": [
              "     Actual  Predicted\n",
              "6         0          1\n",
              "13        0          1\n",
              "16        0          1\n",
              "21        0          1\n",
              "26        0          1\n",
              "42        0          1\n",
              "44        0          1\n",
              "48        0          1\n",
              "61        0          1\n",
              "69        0          1\n",
              "70        0          1\n",
              "75        0          1\n",
              "104       0          1\n",
              "105       0          1\n",
              "119       0          1\n",
              "136       0          1\n",
              "137       0          1\n",
              "140       0          1\n",
              "142       0          1\n",
              "151       0          1\n",
              "152       0          1\n",
              "154       0          1\n",
              "164       0          1\n",
              "167       0          1\n",
              "178       0          1\n",
              "187       0          1\n",
              "193       0          1\n",
              "194       0          1\n",
              "200       0          1\n",
              "212       0          1\n",
              "226       0          1\n",
              "239       1          0\n",
              "294       1          0\n",
              "301       1          0\n",
              "313       1          0\n",
              "329       1          0\n",
              "351       1          0\n",
              "412       1          0\n",
              "425       1          0\n",
              "428       1          0\n",
              "433       1          0\n",
              "434       1          0\n",
              "447       1          0\n",
              "453       1          0\n",
              "460       1          0\n",
              "463       1          0\n",
              "464       1          0\n",
              "469       1          0\n",
              "483       1          0\n",
              "501       1          0\n",
              "504       1          0\n",
              "515       1          0\n",
              "539       1          0\n",
              "564       1          0\n",
              "575       1          0\n",
              "592       1          0\n",
              "603       1          0\n",
              "617       1          0"
            ],
            "text/html": [
              "\n",
              "  <div id=\"df-c3049c20-091f-4e4e-9026-3868925888e9\">\n",
              "    <div class=\"colab-df-container\">\n",
              "      <div>\n",
              "<style scoped>\n",
              "    .dataframe tbody tr th:only-of-type {\n",
              "        vertical-align: middle;\n",
              "    }\n",
              "\n",
              "    .dataframe tbody tr th {\n",
              "        vertical-align: top;\n",
              "    }\n",
              "\n",
              "    .dataframe thead th {\n",
              "        text-align: right;\n",
              "    }\n",
              "</style>\n",
              "<table border=\"1\" class=\"dataframe\">\n",
              "  <thead>\n",
              "    <tr style=\"text-align: right;\">\n",
              "      <th></th>\n",
              "      <th>Actual</th>\n",
              "      <th>Predicted</th>\n",
              "    </tr>\n",
              "  </thead>\n",
              "  <tbody>\n",
              "    <tr>\n",
              "      <th>6</th>\n",
              "      <td>0</td>\n",
              "      <td>1</td>\n",
              "    </tr>\n",
              "    <tr>\n",
              "      <th>13</th>\n",
              "      <td>0</td>\n",
              "      <td>1</td>\n",
              "    </tr>\n",
              "    <tr>\n",
              "      <th>16</th>\n",
              "      <td>0</td>\n",
              "      <td>1</td>\n",
              "    </tr>\n",
              "    <tr>\n",
              "      <th>21</th>\n",
              "      <td>0</td>\n",
              "      <td>1</td>\n",
              "    </tr>\n",
              "    <tr>\n",
              "      <th>26</th>\n",
              "      <td>0</td>\n",
              "      <td>1</td>\n",
              "    </tr>\n",
              "    <tr>\n",
              "      <th>42</th>\n",
              "      <td>0</td>\n",
              "      <td>1</td>\n",
              "    </tr>\n",
              "    <tr>\n",
              "      <th>44</th>\n",
              "      <td>0</td>\n",
              "      <td>1</td>\n",
              "    </tr>\n",
              "    <tr>\n",
              "      <th>48</th>\n",
              "      <td>0</td>\n",
              "      <td>1</td>\n",
              "    </tr>\n",
              "    <tr>\n",
              "      <th>61</th>\n",
              "      <td>0</td>\n",
              "      <td>1</td>\n",
              "    </tr>\n",
              "    <tr>\n",
              "      <th>69</th>\n",
              "      <td>0</td>\n",
              "      <td>1</td>\n",
              "    </tr>\n",
              "    <tr>\n",
              "      <th>70</th>\n",
              "      <td>0</td>\n",
              "      <td>1</td>\n",
              "    </tr>\n",
              "    <tr>\n",
              "      <th>75</th>\n",
              "      <td>0</td>\n",
              "      <td>1</td>\n",
              "    </tr>\n",
              "    <tr>\n",
              "      <th>104</th>\n",
              "      <td>0</td>\n",
              "      <td>1</td>\n",
              "    </tr>\n",
              "    <tr>\n",
              "      <th>105</th>\n",
              "      <td>0</td>\n",
              "      <td>1</td>\n",
              "    </tr>\n",
              "    <tr>\n",
              "      <th>119</th>\n",
              "      <td>0</td>\n",
              "      <td>1</td>\n",
              "    </tr>\n",
              "    <tr>\n",
              "      <th>136</th>\n",
              "      <td>0</td>\n",
              "      <td>1</td>\n",
              "    </tr>\n",
              "    <tr>\n",
              "      <th>137</th>\n",
              "      <td>0</td>\n",
              "      <td>1</td>\n",
              "    </tr>\n",
              "    <tr>\n",
              "      <th>140</th>\n",
              "      <td>0</td>\n",
              "      <td>1</td>\n",
              "    </tr>\n",
              "    <tr>\n",
              "      <th>142</th>\n",
              "      <td>0</td>\n",
              "      <td>1</td>\n",
              "    </tr>\n",
              "    <tr>\n",
              "      <th>151</th>\n",
              "      <td>0</td>\n",
              "      <td>1</td>\n",
              "    </tr>\n",
              "    <tr>\n",
              "      <th>152</th>\n",
              "      <td>0</td>\n",
              "      <td>1</td>\n",
              "    </tr>\n",
              "    <tr>\n",
              "      <th>154</th>\n",
              "      <td>0</td>\n",
              "      <td>1</td>\n",
              "    </tr>\n",
              "    <tr>\n",
              "      <th>164</th>\n",
              "      <td>0</td>\n",
              "      <td>1</td>\n",
              "    </tr>\n",
              "    <tr>\n",
              "      <th>167</th>\n",
              "      <td>0</td>\n",
              "      <td>1</td>\n",
              "    </tr>\n",
              "    <tr>\n",
              "      <th>178</th>\n",
              "      <td>0</td>\n",
              "      <td>1</td>\n",
              "    </tr>\n",
              "    <tr>\n",
              "      <th>187</th>\n",
              "      <td>0</td>\n",
              "      <td>1</td>\n",
              "    </tr>\n",
              "    <tr>\n",
              "      <th>193</th>\n",
              "      <td>0</td>\n",
              "      <td>1</td>\n",
              "    </tr>\n",
              "    <tr>\n",
              "      <th>194</th>\n",
              "      <td>0</td>\n",
              "      <td>1</td>\n",
              "    </tr>\n",
              "    <tr>\n",
              "      <th>200</th>\n",
              "      <td>0</td>\n",
              "      <td>1</td>\n",
              "    </tr>\n",
              "    <tr>\n",
              "      <th>212</th>\n",
              "      <td>0</td>\n",
              "      <td>1</td>\n",
              "    </tr>\n",
              "    <tr>\n",
              "      <th>226</th>\n",
              "      <td>0</td>\n",
              "      <td>1</td>\n",
              "    </tr>\n",
              "    <tr>\n",
              "      <th>239</th>\n",
              "      <td>1</td>\n",
              "      <td>0</td>\n",
              "    </tr>\n",
              "    <tr>\n",
              "      <th>294</th>\n",
              "      <td>1</td>\n",
              "      <td>0</td>\n",
              "    </tr>\n",
              "    <tr>\n",
              "      <th>301</th>\n",
              "      <td>1</td>\n",
              "      <td>0</td>\n",
              "    </tr>\n",
              "    <tr>\n",
              "      <th>313</th>\n",
              "      <td>1</td>\n",
              "      <td>0</td>\n",
              "    </tr>\n",
              "    <tr>\n",
              "      <th>329</th>\n",
              "      <td>1</td>\n",
              "      <td>0</td>\n",
              "    </tr>\n",
              "    <tr>\n",
              "      <th>351</th>\n",
              "      <td>1</td>\n",
              "      <td>0</td>\n",
              "    </tr>\n",
              "    <tr>\n",
              "      <th>412</th>\n",
              "      <td>1</td>\n",
              "      <td>0</td>\n",
              "    </tr>\n",
              "    <tr>\n",
              "      <th>425</th>\n",
              "      <td>1</td>\n",
              "      <td>0</td>\n",
              "    </tr>\n",
              "    <tr>\n",
              "      <th>428</th>\n",
              "      <td>1</td>\n",
              "      <td>0</td>\n",
              "    </tr>\n",
              "    <tr>\n",
              "      <th>433</th>\n",
              "      <td>1</td>\n",
              "      <td>0</td>\n",
              "    </tr>\n",
              "    <tr>\n",
              "      <th>434</th>\n",
              "      <td>1</td>\n",
              "      <td>0</td>\n",
              "    </tr>\n",
              "    <tr>\n",
              "      <th>447</th>\n",
              "      <td>1</td>\n",
              "      <td>0</td>\n",
              "    </tr>\n",
              "    <tr>\n",
              "      <th>453</th>\n",
              "      <td>1</td>\n",
              "      <td>0</td>\n",
              "    </tr>\n",
              "    <tr>\n",
              "      <th>460</th>\n",
              "      <td>1</td>\n",
              "      <td>0</td>\n",
              "    </tr>\n",
              "    <tr>\n",
              "      <th>463</th>\n",
              "      <td>1</td>\n",
              "      <td>0</td>\n",
              "    </tr>\n",
              "    <tr>\n",
              "      <th>464</th>\n",
              "      <td>1</td>\n",
              "      <td>0</td>\n",
              "    </tr>\n",
              "    <tr>\n",
              "      <th>469</th>\n",
              "      <td>1</td>\n",
              "      <td>0</td>\n",
              "    </tr>\n",
              "    <tr>\n",
              "      <th>483</th>\n",
              "      <td>1</td>\n",
              "      <td>0</td>\n",
              "    </tr>\n",
              "    <tr>\n",
              "      <th>501</th>\n",
              "      <td>1</td>\n",
              "      <td>0</td>\n",
              "    </tr>\n",
              "    <tr>\n",
              "      <th>504</th>\n",
              "      <td>1</td>\n",
              "      <td>0</td>\n",
              "    </tr>\n",
              "    <tr>\n",
              "      <th>515</th>\n",
              "      <td>1</td>\n",
              "      <td>0</td>\n",
              "    </tr>\n",
              "    <tr>\n",
              "      <th>539</th>\n",
              "      <td>1</td>\n",
              "      <td>0</td>\n",
              "    </tr>\n",
              "    <tr>\n",
              "      <th>564</th>\n",
              "      <td>1</td>\n",
              "      <td>0</td>\n",
              "    </tr>\n",
              "    <tr>\n",
              "      <th>575</th>\n",
              "      <td>1</td>\n",
              "      <td>0</td>\n",
              "    </tr>\n",
              "    <tr>\n",
              "      <th>592</th>\n",
              "      <td>1</td>\n",
              "      <td>0</td>\n",
              "    </tr>\n",
              "    <tr>\n",
              "      <th>603</th>\n",
              "      <td>1</td>\n",
              "      <td>0</td>\n",
              "    </tr>\n",
              "    <tr>\n",
              "      <th>617</th>\n",
              "      <td>1</td>\n",
              "      <td>0</td>\n",
              "    </tr>\n",
              "  </tbody>\n",
              "</table>\n",
              "</div>\n",
              "      <button class=\"colab-df-convert\" onclick=\"convertToInteractive('df-c3049c20-091f-4e4e-9026-3868925888e9')\"\n",
              "              title=\"Convert this dataframe to an interactive table.\"\n",
              "              style=\"display:none;\">\n",
              "        \n",
              "  <svg xmlns=\"http://www.w3.org/2000/svg\" height=\"24px\"viewBox=\"0 0 24 24\"\n",
              "       width=\"24px\">\n",
              "    <path d=\"M0 0h24v24H0V0z\" fill=\"none\"/>\n",
              "    <path d=\"M18.56 5.44l.94 2.06.94-2.06 2.06-.94-2.06-.94-.94-2.06-.94 2.06-2.06.94zm-11 1L8.5 8.5l.94-2.06 2.06-.94-2.06-.94L8.5 2.5l-.94 2.06-2.06.94zm10 10l.94 2.06.94-2.06 2.06-.94-2.06-.94-.94-2.06-.94 2.06-2.06.94z\"/><path d=\"M17.41 7.96l-1.37-1.37c-.4-.4-.92-.59-1.43-.59-.52 0-1.04.2-1.43.59L10.3 9.45l-7.72 7.72c-.78.78-.78 2.05 0 2.83L4 21.41c.39.39.9.59 1.41.59.51 0 1.02-.2 1.41-.59l7.78-7.78 2.81-2.81c.8-.78.8-2.07 0-2.86zM5.41 20L4 18.59l7.72-7.72 1.47 1.35L5.41 20z\"/>\n",
              "  </svg>\n",
              "      </button>\n",
              "      \n",
              "  <style>\n",
              "    .colab-df-container {\n",
              "      display:flex;\n",
              "      flex-wrap:wrap;\n",
              "      gap: 12px;\n",
              "    }\n",
              "\n",
              "    .colab-df-convert {\n",
              "      background-color: #E8F0FE;\n",
              "      border: none;\n",
              "      border-radius: 50%;\n",
              "      cursor: pointer;\n",
              "      display: none;\n",
              "      fill: #1967D2;\n",
              "      height: 32px;\n",
              "      padding: 0 0 0 0;\n",
              "      width: 32px;\n",
              "    }\n",
              "\n",
              "    .colab-df-convert:hover {\n",
              "      background-color: #E2EBFA;\n",
              "      box-shadow: 0px 1px 2px rgba(60, 64, 67, 0.3), 0px 1px 3px 1px rgba(60, 64, 67, 0.15);\n",
              "      fill: #174EA6;\n",
              "    }\n",
              "\n",
              "    [theme=dark] .colab-df-convert {\n",
              "      background-color: #3B4455;\n",
              "      fill: #D2E3FC;\n",
              "    }\n",
              "\n",
              "    [theme=dark] .colab-df-convert:hover {\n",
              "      background-color: #434B5C;\n",
              "      box-shadow: 0px 1px 3px 1px rgba(0, 0, 0, 0.15);\n",
              "      filter: drop-shadow(0px 1px 2px rgba(0, 0, 0, 0.3));\n",
              "      fill: #FFFFFF;\n",
              "    }\n",
              "  </style>\n",
              "\n",
              "      <script>\n",
              "        const buttonEl =\n",
              "          document.querySelector('#df-c3049c20-091f-4e4e-9026-3868925888e9 button.colab-df-convert');\n",
              "        buttonEl.style.display =\n",
              "          google.colab.kernel.accessAllowed ? 'block' : 'none';\n",
              "\n",
              "        async function convertToInteractive(key) {\n",
              "          const element = document.querySelector('#df-c3049c20-091f-4e4e-9026-3868925888e9');\n",
              "          const dataTable =\n",
              "            await google.colab.kernel.invokeFunction('convertToInteractive',\n",
              "                                                     [key], {});\n",
              "          if (!dataTable) return;\n",
              "\n",
              "          const docLinkHtml = 'Like what you see? Visit the ' +\n",
              "            '<a target=\"_blank\" href=https://colab.research.google.com/notebooks/data_table.ipynb>data table notebook</a>'\n",
              "            + ' to learn more about interactive tables.';\n",
              "          element.innerHTML = '';\n",
              "          dataTable['output_type'] = 'display_data';\n",
              "          await google.colab.output.renderOutput(dataTable, element);\n",
              "          const docLink = document.createElement('div');\n",
              "          docLink.innerHTML = docLinkHtml;\n",
              "          element.appendChild(docLink);\n",
              "        }\n",
              "      </script>\n",
              "    </div>\n",
              "  </div>\n",
              "  "
            ]
          },
          "metadata": {},
          "execution_count": 47
        }
      ]
    },
    {
      "cell_type": "markdown",
      "source": [
        "# Creating a VGG16 model"
      ],
      "metadata": {
        "id": "a3dmiXrn7ZTE"
      }
    },
    {
      "cell_type": "code",
      "source": [
        "# Import necessary libraries\n",
        "from tensorflow.keras.applications.vgg16 import VGG16\n",
        "from tensorflow.keras.layers import Dense, Dropout, Flatten\n",
        "from tensorflow.keras.models import Model\n",
        "\n",
        "\n",
        "tf.keras.backend.clear_session()\n",
        "\n",
        "base_model = VGG16(weights='imagenet', include_top=False, input_shape=(Image_size,Image_size,3))\n",
        "\n",
        "base_model.trainable = True\n",
        "\n",
        "for layer in base_model.layers[:-13]:\n",
        "  layer.trainable = False\n",
        "\n",
        "def get_pretrained():\n",
        "  inputs = layers.Input(shape=(Image_size, Image_size, 3))\n",
        "\n",
        "  x = base_model(inputs)\n",
        "\n",
        "   # Fine-tuning\n",
        "  # Head\n",
        "  x = layers.GlobalMaxPooling2D()(x)\n",
        "  x = layers.Dense(64, activation='swish')(x)\n",
        "  x = layers.Dropout(0.2)(x)\n",
        "\n",
        "  # Final Layer\n",
        "  output = layers.Dense(1, activation='sigmoid')(x)\n",
        "\n",
        "  model_vgg16 = tf.keras.Model(inputs=[inputs], outputs=output)\n",
        "\n",
        "  return model_vgg16\n"
      ],
      "metadata": {
        "id": "rAl9h-OjKT-6",
        "colab": {
          "base_uri": "https://localhost:8080/"
        },
        "outputId": "2d906b4d-7291-4ec6-d134-3a2162a2497a"
      },
      "execution_count": null,
      "outputs": [
        {
          "output_type": "stream",
          "name": "stdout",
          "text": [
            "Downloading data from https://storage.googleapis.com/tensorflow/keras-applications/vgg16/vgg16_weights_tf_dim_ordering_tf_kernels_notop.h5\n",
            "58889256/58889256 [==============================] - 4s 0us/step\n"
          ]
        }
      ]
    },
    {
      "cell_type": "markdown",
      "source": [
        "##**VGG16 Model Summary**"
      ],
      "metadata": {
        "id": "FSpzaQ0waX_K"
      }
    },
    {
      "cell_type": "code",
      "source": [
        "model_pretrained = get_pretrained()\n",
        "model_pretrained.compile(loss = tf.keras.losses.BinaryCrossentropy(from_logits=True),\n",
        "                         optimizer = tf.keras.optimizers.Adam(learning_rate=0.00001),\n",
        "                         metrics='binary_accuracy')\n",
        "model_pretrained.summary()"
      ],
      "metadata": {
        "colab": {
          "base_uri": "https://localhost:8080/"
        },
        "id": "mrcuZYwfKeRg",
        "outputId": "92e2e50b-7833-428a-ac5d-d8b398d6e2d2"
      },
      "execution_count": null,
      "outputs": [
        {
          "output_type": "stream",
          "name": "stdout",
          "text": [
            "Model: \"model\"\n",
            "_________________________________________________________________\n",
            " Layer (type)                Output Shape              Param #   \n",
            "=================================================================\n",
            " input_2 (InputLayer)        [(None, 244, 244, 3)]     0         \n",
            "                                                                 \n",
            " vgg16 (Functional)          (None, 7, 7, 512)         14714688  \n",
            "                                                                 \n",
            " global_max_pooling2d (Globa  (None, 512)              0         \n",
            " lMaxPooling2D)                                                  \n",
            "                                                                 \n",
            " dense (Dense)               (None, 64)                32832     \n",
            "                                                                 \n",
            " dropout (Dropout)           (None, 64)                0         \n",
            "                                                                 \n",
            " dense_1 (Dense)             (None, 1)                 65        \n",
            "                                                                 \n",
            "=================================================================\n",
            "Total params: 14,747,585\n",
            "Trainable params: 14,487,425\n",
            "Non-trainable params: 260,160\n",
            "_________________________________________________________________\n"
          ]
        }
      ]
    },
    {
      "cell_type": "code",
      "source": [
        "history_vgg16 = model_pretrained.fit(dict_train,\n",
        "          batch_size = Batch_size, epochs = 15,\n",
        "          validation_data=dict_val,\n",
        "          steps_per_epoch=(len(train_df)/Batch_size),\n",
        "          validation_steps=(len(val_df)/Batch_size));\n"
      ],
      "metadata": {
        "colab": {
          "base_uri": "https://localhost:8080/"
        },
        "id": "mkGcXdb9dRNb",
        "outputId": "da8b4f15-6ded-43a7-bb85-74a06bb0b3c9"
      },
      "execution_count": null,
      "outputs": [
        {
          "output_type": "stream",
          "name": "stdout",
          "text": [
            "Epoch 1/15\n",
            "130/130 [==============================] - 1194s 9s/step - loss: 0.2126 - binary_accuracy: 0.9152 - val_loss: 0.1296 - val_binary_accuracy: 0.9427\n",
            "Epoch 2/15\n",
            "130/130 [==============================] - 107s 815ms/step - loss: 0.1089 - binary_accuracy: 0.9575 - val_loss: 0.0826 - val_binary_accuracy: 0.9675\n",
            "Epoch 3/15\n",
            "130/130 [==============================] - 107s 814ms/step - loss: 0.0769 - binary_accuracy: 0.9730 - val_loss: 0.0475 - val_binary_accuracy: 0.9819\n",
            "Epoch 4/15\n",
            "130/130 [==============================] - 106s 815ms/step - loss: 0.0602 - binary_accuracy: 0.9775 - val_loss: 0.0365 - val_binary_accuracy: 0.9857\n",
            "Epoch 5/15\n",
            "130/130 [==============================] - 109s 832ms/step - loss: 0.0540 - binary_accuracy: 0.9799 - val_loss: 0.0356 - val_binary_accuracy: 0.9866\n",
            "Epoch 6/15\n",
            "130/130 [==============================] - 107s 818ms/step - loss: 0.0514 - binary_accuracy: 0.9833 - val_loss: 0.0588 - val_binary_accuracy: 0.9771\n",
            "Epoch 7/15\n",
            "130/130 [==============================] - 107s 816ms/step - loss: 0.0352 - binary_accuracy: 0.9871 - val_loss: 0.1237 - val_binary_accuracy: 0.9580\n",
            "Epoch 8/15\n",
            "130/130 [==============================] - 107s 819ms/step - loss: 0.0338 - binary_accuracy: 0.9885 - val_loss: 0.0920 - val_binary_accuracy: 0.9599\n",
            "Epoch 9/15\n",
            "130/130 [==============================] - 106s 812ms/step - loss: 0.0290 - binary_accuracy: 0.9904 - val_loss: 0.0627 - val_binary_accuracy: 0.9790\n",
            "Epoch 10/15\n",
            "130/130 [==============================] - 107s 815ms/step - loss: 0.0250 - binary_accuracy: 0.9924 - val_loss: 0.0558 - val_binary_accuracy: 0.9771\n",
            "Epoch 11/15\n",
            "130/130 [==============================] - 108s 823ms/step - loss: 0.0238 - binary_accuracy: 0.9924 - val_loss: 0.1108 - val_binary_accuracy: 0.9589\n",
            "Epoch 12/15\n",
            "130/130 [==============================] - 107s 816ms/step - loss: 0.0250 - binary_accuracy: 0.9909 - val_loss: 0.1569 - val_binary_accuracy: 0.9580\n",
            "Epoch 13/15\n",
            "130/130 [==============================] - 106s 814ms/step - loss: 0.0174 - binary_accuracy: 0.9943 - val_loss: 0.0427 - val_binary_accuracy: 0.9838\n",
            "Epoch 14/15\n",
            "130/130 [==============================] - 106s 814ms/step - loss: 0.0127 - binary_accuracy: 0.9959 - val_loss: 0.0416 - val_binary_accuracy: 0.9828\n",
            "Epoch 15/15\n",
            "130/130 [==============================] - 106s 809ms/step - loss: 0.0158 - binary_accuracy: 0.9928 - val_loss: 0.0409 - val_binary_accuracy: 0.9847\n"
          ]
        }
      ]
    },
    {
      "cell_type": "markdown",
      "source": [
        "##**Plotting Loss VGG16 (Training dataset vs. Valdiation dataset) where X axis are the epochs**"
      ],
      "metadata": {
        "id": "FKtthBUNXtij"
      }
    },
    {
      "cell_type": "code",
      "source": [
        "losses = pd.DataFrame(history_vgg16.history)\n",
        "losses\n",
        "losses[['loss', 'val_loss']].plot()\n"
      ],
      "metadata": {
        "colab": {
          "base_uri": "https://localhost:8080/",
          "height": 447
        },
        "id": "hJOmhPWrUejK",
        "outputId": "aa124233-b851-42d1-f70b-e858a26d5f82"
      },
      "execution_count": null,
      "outputs": [
        {
          "output_type": "execute_result",
          "data": {
            "text/plain": [
              "<Axes: >"
            ]
          },
          "metadata": {},
          "execution_count": 15
        },
        {
          "output_type": "display_data",
          "data": {
            "text/plain": [
              "<Figure size 640x480 with 1 Axes>"
            ],
            "image/png": "[encoded data removed]"
          },
          "metadata": {}
        }
      ]
    },
    {
      "cell_type": "markdown",
      "source": [
        "##**Plotting Accuracy Vgg16 (Training dataset vs. Valdiation dataset) where X axis are the epochs**"
      ],
      "metadata": {
        "id": "aj8UHXVAX3VL"
      }
    },
    {
      "cell_type": "code",
      "source": [
        "losses[['binary_accuracy', 'val_binary_accuracy']].plot()"
      ],
      "metadata": {
        "colab": {
          "base_uri": "https://localhost:8080/",
          "height": 447
        },
        "id": "n3CqlJNhUl1y",
        "outputId": "246fb2d3-2a8e-4a4b-a49e-57ffa9a00f08"
      },
      "execution_count": null,
      "outputs": [
        {
          "output_type": "execute_result",
          "data": {
            "text/plain": [
              "<Axes: >"
            ]
          },
          "metadata": {},
          "execution_count": 16
        },
        {
          "output_type": "display_data",
          "data": {
            "text/plain": [
              "<Figure size 640x480 with 1 Axes>"
            ],
            "image/png": "[encoded data removed]"
          },
          "metadata": {}
        }
      ]
    },
    {
      "cell_type": "markdown",
      "source": [
        "##**Evaluating the VGG16 model performance on the test dataset**"
      ],
      "metadata": {
        "id": "19b1YHJNYD0r"
      }
    },
    {
      "cell_type": "code",
      "source": [
        "score = model_pretrained.evaluate(dict_val, steps = len(val_df)/Batch_size, verbose = 0)\n",
        "print('Val loss:', score[0]*100, '%')\n",
        "print('Val accuracy:', score[1]*100, '%')"
      ],
      "metadata": {
        "colab": {
          "base_uri": "https://localhost:8080/"
        },
        "id": "pAUbbSrbUGVb",
        "outputId": "0063deb3-f9e6-455e-b646-634c70c49478"
      },
      "execution_count": null,
      "outputs": [
        {
          "output_type": "stream",
          "name": "stdout",
          "text": [
            "Val loss: 4.092180356383324 %\n",
            "Val accuracy: 98.47182631492615 %\n"
          ]
        }
      ]
    },
    {
      "cell_type": "code",
      "source": [
        "num_label = {'Normal': 0, 'Pneumonia' : 1}\n",
        "Y_test = df_test['class'].copy().map(num_label).astype('int')"
      ],
      "metadata": {
        "id": "7lBd1Lzi4s_F"
      },
      "execution_count": null,
      "outputs": []
    },
    {
      "cell_type": "markdown",
      "source": [
        "**Prediction of the Samples using the trained cnn model**"
      ],
      "metadata": {
        "id": "8KERgBomYV28"
      }
    },
    {
      "cell_type": "code",
      "source": [
        "dict_test.reset()\n",
        "predictions = model_pretrained.predict(dict_test, steps=len(dict_test), verbose=0)\n",
        "pred_labels= np.where(predictions>0.5, 1, 0)"
      ],
      "metadata": {
        "id": "moS3fcB34xAf"
      },
      "execution_count": null,
      "outputs": []
    },
    {
      "cell_type": "markdown",
      "source": [
        "##**Evaluating Test Accuracy on the trained VGG16 model**"
      ],
      "metadata": {
        "id": "3dBBEVKHYHoC"
      }
    },
    {
      "cell_type": "code",
      "source": [
        "print(\"Test Accuracy: \", accuracy_score(Y_test, pred_labels)*100, '%')"
      ],
      "metadata": {
        "colab": {
          "base_uri": "https://localhost:8080/"
        },
        "id": "YvicWhtwAoM0",
        "outputId": "296203bd-4a15-43a2-d635-85cb1eb5927e"
      },
      "execution_count": null,
      "outputs": [
        {
          "output_type": "stream",
          "name": "stdout",
          "text": [
            "Test Accuracy:  93.26923076923077 %\n"
          ]
        }
      ]
    },
    {
      "cell_type": "markdown",
      "source": [
        "##**Calculating Precision, Recall, f1-score and Support metrics on the test dataset using the VGG16 trained model**"
      ],
      "metadata": {
        "id": "b5SvAd2gYU4a"
      }
    },
    {
      "cell_type": "code",
      "source": [
        "print(metrics.classification_report(Y_test, pred_labels, labels = [0, 1]))"
      ],
      "metadata": {
        "colab": {
          "base_uri": "https://localhost:8080/"
        },
        "id": "CZv-IkgAAtVS",
        "outputId": "0da8ebe1-8825-4b82-d1ac-c89c2959013f"
      },
      "execution_count": null,
      "outputs": [
        {
          "output_type": "stream",
          "name": "stdout",
          "text": [
            "              precision    recall  f1-score   support\n",
            "\n",
            "           0       0.99      0.83      0.90       234\n",
            "           1       0.91      0.99      0.95       390\n",
            "\n",
            "    accuracy                           0.93       624\n",
            "   macro avg       0.95      0.91      0.93       624\n",
            "weighted avg       0.94      0.93      0.93       624\n",
            "\n"
          ]
        }
      ]
    },
    {
      "cell_type": "markdown",
      "source": [
        "##**Plotting a Roc graph to show performance of the VGG16 model at all thresholds**"
      ],
      "metadata": {
        "id": "DF4zTrkHYhPa"
      }
    },
    {
      "cell_type": "code",
      "source": [
        "roc_auc = metrics.roc_auc_score(Y_test, predictions)\n",
        "print('ROC_AUC: ', roc_auc)\n",
        "\n",
        "fpr, tpr, thresholds = metrics.roc_curve(Y_test, predictions)\n",
        "\n",
        "plt.plot(fpr, tpr, label = 'ROC_AUC = %0.3f' % roc_auc)\n",
        "\n",
        "plt.xlabel(\"False Positive Rate\", fontsize= 12)\n",
        "plt.ylabel(\"True Positive Rate\", fontsize= 12)\n",
        "plt.legend(loc=\"lower right\")\n",
        "\n",
        "plt.show()"
      ],
      "metadata": {
        "colab": {
          "base_uri": "https://localhost:8080/",
          "height": 470
        },
        "id": "nVGFTFXGA0W7",
        "outputId": "87c3b7f4-6216-4eae-83a4-56fdab1fcdda"
      },
      "execution_count": null,
      "outputs": [
        {
          "output_type": "stream",
          "name": "stdout",
          "text": [
            "ROC_AUC:  0.9946526408064871\n"
          ]
        },
        {
          "output_type": "display_data",
          "data": {
            "text/plain": [
              "<Figure size 640x480 with 1 Axes>"
            ],
            "image/png": "[encoded data removed]"
          },
          "metadata": {}
        }
      ]
    },
    {
      "cell_type": "markdown",
      "source": [
        "**Confusion Matrix**"
      ],
      "metadata": {
        "id": "19FDWeZqZDlC"
      }
    },
    {
      "cell_type": "code",
      "source": [
        "from sklearn.metrics import classification_report, confusion_matrix\n",
        "\n",
        "confusion_matrix = metrics.confusion_matrix(Y_test, pred_labels)\n",
        "sns.heatmap(confusion_matrix, annot=True, fmt=\"d\")\n",
        "\n",
        "plt.xlabel(\"Predicted Label\", fontsize= 12)\n",
        "plt.ylabel(\"True Label\", fontsize= 12)\n",
        "\n",
        "plt.show()"
      ],
      "metadata": {
        "colab": {
          "base_uri": "https://localhost:8080/",
          "height": 453
        },
        "id": "j2YKjVLtYodq",
        "outputId": "3fa737c6-541e-4c4a-88f1-724d05ddd289"
      },
      "execution_count": null,
      "outputs": [
        {
          "output_type": "display_data",
          "data": {
            "text/plain": [
              "<Figure size 640x480 with 2 Axes>"
            ],
            "image/png": "[encoded data removed]"
          },
          "metadata": {}
        }
      ]
    },
    {
      "cell_type": "code",
      "source": [
        "Y_test_value_vgg16 = Y_test.values.flatten()"
      ],
      "metadata": {
        "id": "XXk1fuyTYw2b"
      },
      "execution_count": null,
      "outputs": []
    },
    {
      "cell_type": "markdown",
      "source": [
        "##**Showing incorrectly predicted samples in the dataset for VGG16 model**"
      ],
      "metadata": {
        "id": "V5OMrAEcZKBS"
      }
    },
    {
      "cell_type": "code",
      "source": [
        "results_vgg16 = pd.DataFrame({'Actual': Y_test_value_vgg16.flatten(), 'Predicted': pred_labels.flatten()})\n",
        "incorrect_df_vgg16 = results_vgg16[results_vgg16.Actual!=results_vgg16.Predicted]\n",
        "incorrect_df_vgg16"
      ],
      "metadata": {
        "colab": {
          "base_uri": "https://localhost:8080/",
          "height": 1000
        },
        "id": "s_qS-u1ZY0xa",
        "outputId": "a59a6374-737c-4263-87be-9f36151bfe85"
      },
      "execution_count": null,
      "outputs": [
        {
          "output_type": "execute_result",
          "data": {
            "text/plain": [
              "     Actual  Predicted\n",
              "4         0          1\n",
              "6         0          1\n",
              "11        0          1\n",
              "13        0          1\n",
              "16        0          1\n",
              "17        0          1\n",
              "23        0          1\n",
              "24        0          1\n",
              "26        0          1\n",
              "34        0          1\n",
              "40        0          1\n",
              "48        0          1\n",
              "61        0          1\n",
              "69        0          1\n",
              "71        0          1\n",
              "75        0          1\n",
              "88        0          1\n",
              "90        0          1\n",
              "95        0          1\n",
              "105       0          1\n",
              "112       0          1\n",
              "125       0          1\n",
              "136       0          1\n",
              "137       0          1\n",
              "142       0          1\n",
              "147       0          1\n",
              "151       0          1\n",
              "152       0          1\n",
              "154       0          1\n",
              "161       0          1\n",
              "164       0          1\n",
              "165       0          1\n",
              "167       0          1\n",
              "172       0          1\n",
              "191       0          1\n",
              "193       0          1\n",
              "194       0          1\n",
              "200       0          1\n",
              "212       0          1\n",
              "226       0          1\n",
              "447       1          0\n",
              "564       1          0"
            ],
            "text/html": [
              "\n",
              "  <div id=\"df-3db64170-3d82-4685-bf43-2633554eff6f\">\n",
              "    <div class=\"colab-df-container\">\n",
              "      <div>\n",
              "<style scoped>\n",
              "    .dataframe tbody tr th:only-of-type {\n",
              "        vertical-align: middle;\n",
              "    }\n",
              "\n",
              "    .dataframe tbody tr th {\n",
              "        vertical-align: top;\n",
              "    }\n",
              "\n",
              "    .dataframe thead th {\n",
              "        text-align: right;\n",
              "    }\n",
              "</style>\n",
              "<table border=\"1\" class=\"dataframe\">\n",
              "  <thead>\n",
              "    <tr style=\"text-align: right;\">\n",
              "      <th></th>\n",
              "      <th>Actual</th>\n",
              "      <th>Predicted</th>\n",
              "    </tr>\n",
              "  </thead>\n",
              "  <tbody>\n",
              "    <tr>\n",
              "      <th>4</th>\n",
              "      <td>0</td>\n",
              "      <td>1</td>\n",
              "    </tr>\n",
              "    <tr>\n",
              "      <th>6</th>\n",
              "      <td>0</td>\n",
              "      <td>1</td>\n",
              "    </tr>\n",
              "    <tr>\n",
              "      <th>11</th>\n",
              "      <td>0</td>\n",
              "      <td>1</td>\n",
              "    </tr>\n",
              "    <tr>\n",
              "      <th>13</th>\n",
              "      <td>0</td>\n",
              "      <td>1</td>\n",
              "    </tr>\n",
              "    <tr>\n",
              "      <th>16</th>\n",
              "      <td>0</td>\n",
              "      <td>1</td>\n",
              "    </tr>\n",
              "    <tr>\n",
              "      <th>17</th>\n",
              "      <td>0</td>\n",
              "      <td>1</td>\n",
              "    </tr>\n",
              "    <tr>\n",
              "      <th>23</th>\n",
              "      <td>0</td>\n",
              "      <td>1</td>\n",
              "    </tr>\n",
              "    <tr>\n",
              "      <th>24</th>\n",
              "      <td>0</td>\n",
              "      <td>1</td>\n",
              "    </tr>\n",
              "    <tr>\n",
              "      <th>26</th>\n",
              "      <td>0</td>\n",
              "      <td>1</td>\n",
              "    </tr>\n",
              "    <tr>\n",
              "      <th>34</th>\n",
              "      <td>0</td>\n",
              "      <td>1</td>\n",
              "    </tr>\n",
              "    <tr>\n",
              "      <th>40</th>\n",
              "      <td>0</td>\n",
              "      <td>1</td>\n",
              "    </tr>\n",
              "    <tr>\n",
              "      <th>48</th>\n",
              "      <td>0</td>\n",
              "      <td>1</td>\n",
              "    </tr>\n",
              "    <tr>\n",
              "      <th>61</th>\n",
              "      <td>0</td>\n",
              "      <td>1</td>\n",
              "    </tr>\n",
              "    <tr>\n",
              "      <th>69</th>\n",
              "      <td>0</td>\n",
              "      <td>1</td>\n",
              "    </tr>\n",
              "    <tr>\n",
              "      <th>71</th>\n",
              "      <td>0</td>\n",
              "      <td>1</td>\n",
              "    </tr>\n",
              "    <tr>\n",
              "      <th>75</th>\n",
              "      <td>0</td>\n",
              "      <td>1</td>\n",
              "    </tr>\n",
              "    <tr>\n",
              "      <th>88</th>\n",
              "      <td>0</td>\n",
              "      <td>1</td>\n",
              "    </tr>\n",
              "    <tr>\n",
              "      <th>90</th>\n",
              "      <td>0</td>\n",
              "      <td>1</td>\n",
              "    </tr>\n",
              "    <tr>\n",
              "      <th>95</th>\n",
              "      <td>0</td>\n",
              "      <td>1</td>\n",
              "    </tr>\n",
              "    <tr>\n",
              "      <th>105</th>\n",
              "      <td>0</td>\n",
              "      <td>1</td>\n",
              "    </tr>\n",
              "    <tr>\n",
              "      <th>112</th>\n",
              "      <td>0</td>\n",
              "      <td>1</td>\n",
              "    </tr>\n",
              "    <tr>\n",
              "      <th>125</th>\n",
              "      <td>0</td>\n",
              "      <td>1</td>\n",
              "    </tr>\n",
              "    <tr>\n",
              "      <th>136</th>\n",
              "      <td>0</td>\n",
              "      <td>1</td>\n",
              "    </tr>\n",
              "    <tr>\n",
              "      <th>137</th>\n",
              "      <td>0</td>\n",
              "      <td>1</td>\n",
              "    </tr>\n",
              "    <tr>\n",
              "      <th>142</th>\n",
              "      <td>0</td>\n",
              "      <td>1</td>\n",
              "    </tr>\n",
              "    <tr>\n",
              "      <th>147</th>\n",
              "      <td>0</td>\n",
              "      <td>1</td>\n",
              "    </tr>\n",
              "    <tr>\n",
              "      <th>151</th>\n",
              "      <td>0</td>\n",
              "      <td>1</td>\n",
              "    </tr>\n",
              "    <tr>\n",
              "      <th>152</th>\n",
              "      <td>0</td>\n",
              "      <td>1</td>\n",
              "    </tr>\n",
              "    <tr>\n",
              "      <th>154</th>\n",
              "      <td>0</td>\n",
              "      <td>1</td>\n",
              "    </tr>\n",
              "    <tr>\n",
              "      <th>161</th>\n",
              "      <td>0</td>\n",
              "      <td>1</td>\n",
              "    </tr>\n",
              "    <tr>\n",
              "      <th>164</th>\n",
              "      <td>0</td>\n",
              "      <td>1</td>\n",
              "    </tr>\n",
              "    <tr>\n",
              "      <th>165</th>\n",
              "      <td>0</td>\n",
              "      <td>1</td>\n",
              "    </tr>\n",
              "    <tr>\n",
              "      <th>167</th>\n",
              "      <td>0</td>\n",
              "      <td>1</td>\n",
              "    </tr>\n",
              "    <tr>\n",
              "      <th>172</th>\n",
              "      <td>0</td>\n",
              "      <td>1</td>\n",
              "    </tr>\n",
              "    <tr>\n",
              "      <th>191</th>\n",
              "      <td>0</td>\n",
              "      <td>1</td>\n",
              "    </tr>\n",
              "    <tr>\n",
              "      <th>193</th>\n",
              "      <td>0</td>\n",
              "      <td>1</td>\n",
              "    </tr>\n",
              "    <tr>\n",
              "      <th>194</th>\n",
              "      <td>0</td>\n",
              "      <td>1</td>\n",
              "    </tr>\n",
              "    <tr>\n",
              "      <th>200</th>\n",
              "      <td>0</td>\n",
              "      <td>1</td>\n",
              "    </tr>\n",
              "    <tr>\n",
              "      <th>212</th>\n",
              "      <td>0</td>\n",
              "      <td>1</td>\n",
              "    </tr>\n",
              "    <tr>\n",
              "      <th>226</th>\n",
              "      <td>0</td>\n",
              "      <td>1</td>\n",
              "    </tr>\n",
              "    <tr>\n",
              "      <th>447</th>\n",
              "      <td>1</td>\n",
              "      <td>0</td>\n",
              "    </tr>\n",
              "    <tr>\n",
              "      <th>564</th>\n",
              "      <td>1</td>\n",
              "      <td>0</td>\n",
              "    </tr>\n",
              "  </tbody>\n",
              "</table>\n",
              "</div>\n",
              "      <button class=\"colab-df-convert\" onclick=\"convertToInteractive('df-3db64170-3d82-4685-bf43-2633554eff6f')\"\n",
              "              title=\"Convert this dataframe to an interactive table.\"\n",
              "              style=\"display:none;\">\n",
              "        \n",
              "  <svg xmlns=\"http://www.w3.org/2000/svg\" height=\"24px\"viewBox=\"0 0 24 24\"\n",
              "       width=\"24px\">\n",
              "    <path d=\"M0 0h24v24H0V0z\" fill=\"none\"/>\n",
              "    <path d=\"M18.56 5.44l.94 2.06.94-2.06 2.06-.94-2.06-.94-.94-2.06-.94 2.06-2.06.94zm-11 1L8.5 8.5l.94-2.06 2.06-.94-2.06-.94L8.5 2.5l-.94 2.06-2.06.94zm10 10l.94 2.06.94-2.06 2.06-.94-2.06-.94-.94-2.06-.94 2.06-2.06.94z\"/><path d=\"M17.41 7.96l-1.37-1.37c-.4-.4-.92-.59-1.43-.59-.52 0-1.04.2-1.43.59L10.3 9.45l-7.72 7.72c-.78.78-.78 2.05 0 2.83L4 21.41c.39.39.9.59 1.41.59.51 0 1.02-.2 1.41-.59l7.78-7.78 2.81-2.81c.8-.78.8-2.07 0-2.86zM5.41 20L4 18.59l7.72-7.72 1.47 1.35L5.41 20z\"/>\n",
              "  </svg>\n",
              "      </button>\n",
              "      \n",
              "  <style>\n",
              "    .colab-df-container {\n",
              "      display:flex;\n",
              "      flex-wrap:wrap;\n",
              "      gap: 12px;\n",
              "    }\n",
              "\n",
              "    .colab-df-convert {\n",
              "      background-color: #E8F0FE;\n",
              "      border: none;\n",
              "      border-radius: 50%;\n",
              "      cursor: pointer;\n",
              "      display: none;\n",
              "      fill: #1967D2;\n",
              "      height: 32px;\n",
              "      padding: 0 0 0 0;\n",
              "      width: 32px;\n",
              "    }\n",
              "\n",
              "    .colab-df-convert:hover {\n",
              "      background-color: #E2EBFA;\n",
              "      box-shadow: 0px 1px 2px rgba(60, 64, 67, 0.3), 0px 1px 3px 1px rgba(60, 64, 67, 0.15);\n",
              "      fill: #174EA6;\n",
              "    }\n",
              "\n",
              "    [theme=dark] .colab-df-convert {\n",
              "      background-color: #3B4455;\n",
              "      fill: #D2E3FC;\n",
              "    }\n",
              "\n",
              "    [theme=dark] .colab-df-convert:hover {\n",
              "      background-color: #434B5C;\n",
              "      box-shadow: 0px 1px 3px 1px rgba(0, 0, 0, 0.15);\n",
              "      filter: drop-shadow(0px 1px 2px rgba(0, 0, 0, 0.3));\n",
              "      fill: #FFFFFF;\n",
              "    }\n",
              "  </style>\n",
              "\n",
              "      <script>\n",
              "        const buttonEl =\n",
              "          document.querySelector('#df-3db64170-3d82-4685-bf43-2633554eff6f button.colab-df-convert');\n",
              "        buttonEl.style.display =\n",
              "          google.colab.kernel.accessAllowed ? 'block' : 'none';\n",
              "\n",
              "        async function convertToInteractive(key) {\n",
              "          const element = document.querySelector('#df-3db64170-3d82-4685-bf43-2633554eff6f');\n",
              "          const dataTable =\n",
              "            await google.colab.kernel.invokeFunction('convertToInteractive',\n",
              "                                                     [key], {});\n",
              "          if (!dataTable) return;\n",
              "\n",
              "          const docLinkHtml = 'Like what you see? Visit the ' +\n",
              "            '<a target=\"_blank\" href=https://colab.research.google.com/notebooks/data_table.ipynb>data table notebook</a>'\n",
              "            + ' to learn more about interactive tables.';\n",
              "          element.innerHTML = '';\n",
              "          dataTable['output_type'] = 'display_data';\n",
              "          await google.colab.output.renderOutput(dataTable, element);\n",
              "          const docLink = document.createElement('div');\n",
              "          docLink.innerHTML = docLinkHtml;\n",
              "          element.appendChild(docLink);\n",
              "        }\n",
              "      </script>\n",
              "    </div>\n",
              "  </div>\n",
              "  "
            ]
          },
          "metadata": {},
          "execution_count": 25
        }
      ]
    },
    {
      "cell_type": "code",
      "source": [
        "# model_pretrained.save('/content/drive/MyDrive/Colab Notebooks/Vgg16_model.h5')"
      ],
      "metadata": {
        "id": "ajZx9EsdOMCB"
      },
      "execution_count": null,
      "outputs": []
    },
    {
      "cell_type": "markdown",
      "source": [
        "# Creating a ResNet50V2 model\n"
      ],
      "metadata": {
        "id": "PKx7QDakbAHr"
      }
    },
    {
      "cell_type": "code",
      "source": [
        "from tensorflow.keras.applications import ResNet50V2\n",
        "\n",
        "tf.keras.backend.clear_session()\n",
        "\n",
        "def get_pretrained_Resnet():\n",
        "    base_model = ResNet50V2(weights='imagenet', include_top=False, input_shape=(Image_size, Image_size, 3))\n",
        "\n",
        "    base_model.trainable = True\n",
        "\n",
        "    for layer in base_model.layers[:-13]:\n",
        "        layer.trainable = False\n",
        "\n",
        "    # Head\n",
        "    inputs = layers.Input(shape=(Image_size, Image_size, 3))\n",
        "    x = base_model(inputs)\n",
        "    x = layers.GlobalAveragePooling2D()(x)\n",
        "    x = layers.Dense(256, activation='swish')(x)\n",
        "    x = layers.Dropout(0.5)(x)\n",
        "    x = layers.Dense(128, activation='swish')(x)\n",
        "    x = layers.Dropout(0.3)(x)\n",
        "    x = layers.Dense(64, activation='swish')(x)\n",
        "    x = layers.Dropout(0.2)(x)\n",
        "\n",
        "    # Final Layer\n",
        "    output = layers.Dense(1, activation='sigmoid')(x)\n",
        "\n",
        "    model_resnet50v2 = tf.keras.Model(inputs=[inputs], outputs=output)\n",
        "\n",
        "    return model_resnet50v2"
      ],
      "metadata": {
        "id": "JMqObxHObCU5"
      },
      "execution_count": null,
      "outputs": []
    },
    {
      "cell_type": "code",
      "source": [
        "model_pretrained_resnet = get_pretrained_Resnet()\n",
        "model_pretrained_resnet.compile(loss = tf.keras.losses.BinaryCrossentropy(from_logits=True),\n",
        "                         optimizer = tf.keras.optimizers.Adam(learning_rate=0.00001),\n",
        "                         metrics='binary_accuracy')\n",
        "model_pretrained_resnet.summary()"
      ],
      "metadata": {
        "colab": {
          "base_uri": "https://localhost:8080/"
        },
        "id": "sD-OhyxtclT3",
        "outputId": "e28de8db-f993-43c1-a94f-027712122c47"
      },
      "execution_count": null,
      "outputs": [
        {
          "output_type": "stream",
          "name": "stdout",
          "text": [
            "Downloading data from https://storage.googleapis.com/tensorflow/keras-applications/resnet/resnet50v2_weights_tf_dim_ordering_tf_kernels_notop.h5\n",
            "94668760/94668760 [==============================] - 0s 0us/step\n",
            "Model: \"model\"\n",
            "_________________________________________________________________\n",
            " Layer (type)                Output Shape              Param #   \n",
            "=================================================================\n",
            " input_2 (InputLayer)        [(None, 244, 244, 3)]     0         \n",
            "                                                                 \n",
            " resnet50v2 (Functional)     (None, 8, 8, 2048)        23564800  \n",
            "                                                                 \n",
            " global_average_pooling2d (G  (None, 2048)             0         \n",
            " lobalAveragePooling2D)                                          \n",
            "                                                                 \n",
            " dense (Dense)               (None, 256)               524544    \n",
            "                                                                 \n",
            " dropout (Dropout)           (None, 256)               0         \n",
            "                                                                 \n",
            " dense_1 (Dense)             (None, 128)               32896     \n",
            "                                                                 \n",
            " dropout_1 (Dropout)         (None, 128)               0         \n",
            "                                                                 \n",
            " dense_2 (Dense)             (None, 64)                8256      \n",
            "                                                                 \n",
            " dropout_2 (Dropout)         (None, 64)                0         \n",
            "                                                                 \n",
            " dense_3 (Dense)             (None, 1)                 65        \n",
            "                                                                 \n",
            "=================================================================\n",
            "Total params: 24,130,561\n",
            "Trainable params: 5,034,497\n",
            "Non-trainable params: 19,096,064\n",
            "_________________________________________________________________\n"
          ]
        }
      ]
    },
    {
      "cell_type": "code",
      "source": [
        "history_resnet = model_pretrained_resnet.fit(dict_train,\n",
        "          batch_size = Batch_size, epochs = 15,\n",
        "          validation_data=dict_val,\n",
        "          steps_per_epoch=(len(train_df)/Batch_size),\n",
        "          validation_steps=(len(val_df)/Batch_size));\n"
      ],
      "metadata": {
        "colab": {
          "base_uri": "https://localhost:8080/"
        },
        "id": "035WHBFLc8xU",
        "outputId": "5d407e9e-b19f-4b65-cefe-52521d2815ff"
      },
      "execution_count": null,
      "outputs": [
        {
          "output_type": "stream",
          "name": "stdout",
          "text": [
            "Epoch 1/15\n",
            "130/130 [==============================] - 115s 828ms/step - loss: 0.5515 - binary_accuracy: 0.7284 - val_loss: 0.3585 - val_binary_accuracy: 0.7947\n",
            "Epoch 2/15\n",
            "130/130 [==============================] - 108s 825ms/step - loss: 0.3274 - binary_accuracy: 0.8786 - val_loss: 0.2111 - val_binary_accuracy: 0.9456\n",
            "Epoch 3/15\n",
            "130/130 [==============================] - 107s 821ms/step - loss: 0.2235 - binary_accuracy: 0.9286 - val_loss: 0.1433 - val_binary_accuracy: 0.9618\n",
            "Epoch 4/15\n",
            "130/130 [==============================] - 107s 818ms/step - loss: 0.1640 - binary_accuracy: 0.9451 - val_loss: 0.1200 - val_binary_accuracy: 0.9580\n",
            "Epoch 5/15\n",
            "130/130 [==============================] - 106s 807ms/step - loss: 0.1470 - binary_accuracy: 0.9491 - val_loss: 0.1000 - val_binary_accuracy: 0.9656\n",
            "Epoch 6/15\n",
            "130/130 [==============================] - 106s 812ms/step - loss: 0.1290 - binary_accuracy: 0.9565 - val_loss: 0.0929 - val_binary_accuracy: 0.9694\n",
            "Epoch 7/15\n",
            "130/130 [==============================] - 107s 819ms/step - loss: 0.1186 - binary_accuracy: 0.9606 - val_loss: 0.0954 - val_binary_accuracy: 0.9656\n",
            "Epoch 8/15\n",
            "130/130 [==============================] - 108s 824ms/step - loss: 0.0994 - binary_accuracy: 0.9651 - val_loss: 0.0768 - val_binary_accuracy: 0.9742\n",
            "Epoch 9/15\n",
            "130/130 [==============================] - 108s 823ms/step - loss: 0.1028 - binary_accuracy: 0.9644 - val_loss: 0.0794 - val_binary_accuracy: 0.9723\n",
            "Epoch 10/15\n",
            "130/130 [==============================] - 107s 816ms/step - loss: 0.0959 - binary_accuracy: 0.9666 - val_loss: 0.0775 - val_binary_accuracy: 0.9733\n",
            "Epoch 11/15\n",
            "130/130 [==============================] - 107s 820ms/step - loss: 0.0789 - binary_accuracy: 0.9732 - val_loss: 0.0808 - val_binary_accuracy: 0.9685\n",
            "Epoch 12/15\n",
            "130/130 [==============================] - 109s 834ms/step - loss: 0.0752 - binary_accuracy: 0.9744 - val_loss: 0.0771 - val_binary_accuracy: 0.9723\n",
            "Epoch 13/15\n",
            "130/130 [==============================] - 107s 822ms/step - loss: 0.0833 - binary_accuracy: 0.9706 - val_loss: 0.0777 - val_binary_accuracy: 0.9723\n",
            "Epoch 14/15\n",
            "130/130 [==============================] - 108s 827ms/step - loss: 0.0681 - binary_accuracy: 0.9752 - val_loss: 0.0636 - val_binary_accuracy: 0.9771\n",
            "Epoch 15/15\n",
            "130/130 [==============================] - 108s 828ms/step - loss: 0.0646 - binary_accuracy: 0.9780 - val_loss: 0.0701 - val_binary_accuracy: 0.9752\n"
          ]
        }
      ]
    },
    {
      "cell_type": "code",
      "source": [
        "losses = pd.DataFrame(history_resnet.history)\n",
        "losses\n",
        "losses[['loss', 'val_loss']].plot()"
      ],
      "metadata": {
        "colab": {
          "base_uri": "https://localhost:8080/",
          "height": 282
        },
        "id": "G9mDhO16rCG4",
        "outputId": "89b38070-0eba-4ae5-d66a-a91ef8c4eb38"
      },
      "execution_count": null,
      "outputs": [
        {
          "output_type": "execute_result",
          "data": {
            "text/plain": [
              "<Axes: >"
            ]
          },
          "metadata": {},
          "execution_count": 66
        },
        {
          "output_type": "display_data",
          "data": {
            "text/plain": [
              "<Figure size 432x288 with 1 Axes>"
            ],
            "image/png": "[encoded data removed]"
          },
          "metadata": {
            "needs_background": "light"
          }
        }
      ]
    },
    {
      "cell_type": "code",
      "source": [
        "losses[['binary_accuracy', 'val_binary_accuracy']].plot()"
      ],
      "metadata": {
        "colab": {
          "base_uri": "https://localhost:8080/",
          "height": 282
        },
        "id": "8PGHjRoJrCL7",
        "outputId": "3ba4f601-fb86-4ffc-a3e5-9e5cd8410783"
      },
      "execution_count": null,
      "outputs": [
        {
          "output_type": "execute_result",
          "data": {
            "text/plain": [
              "<Axes: >"
            ]
          },
          "metadata": {},
          "execution_count": 67
        },
        {
          "output_type": "display_data",
          "data": {
            "text/plain": [
              "<Figure size 432x288 with 1 Axes>"
            ],
            "image/png": "[encoded data removed]"
          },
          "metadata": {
            "needs_background": "light"
          }
        }
      ]
    },
    {
      "cell_type": "code",
      "source": [
        "score = model_pretrained_resnet.evaluate(dict_val, steps = len(val_df)/Batch_size, verbose = 0)\n",
        "print('Val loss:', score[0]*100, '%')\n",
        "print('Val accuracy:', score[1]*100, '%')"
      ],
      "metadata": {
        "colab": {
          "base_uri": "https://localhost:8080/"
        },
        "id": "YXLR5qCArCOV",
        "outputId": "7c42bf9f-31f2-483c-b352-2da292da21c8"
      },
      "execution_count": null,
      "outputs": [
        {
          "output_type": "stream",
          "name": "stdout",
          "text": [
            "Val loss: 7.013238966464996 %\n",
            "Val accuracy: 97.51671552658081 %\n"
          ]
        }
      ]
    },
    {
      "cell_type": "code",
      "source": [
        "num_label = {'Normal': 0, 'Pneumonia' : 1}\n",
        "Y_test = df_test['class'].copy().map(num_label).astype('int')"
      ],
      "metadata": {
        "id": "uC4ysDdSrCQj"
      },
      "execution_count": null,
      "outputs": []
    },
    {
      "cell_type": "code",
      "source": [
        "dict_test.reset()\n",
        "predictions = model_pretrained_resnet.predict(dict_test, steps=len(dict_test), verbose=0)\n",
        "pred_labels= np.where(predictions>0.5, 1, 0)"
      ],
      "metadata": {
        "id": "HEfv5dElrYXd"
      },
      "execution_count": null,
      "outputs": []
    },
    {
      "cell_type": "code",
      "source": [
        "print(\"Test Accuracy: \", accuracy_score(Y_test, pred_labels)*100, '%')"
      ],
      "metadata": {
        "colab": {
          "base_uri": "https://localhost:8080/"
        },
        "id": "PJZvJId_regs",
        "outputId": "53a9a623-cb3d-4802-b1bf-99b03cc5146e"
      },
      "execution_count": null,
      "outputs": [
        {
          "output_type": "stream",
          "name": "stdout",
          "text": [
            "Test Accuracy:  95.03205128205127 %\n"
          ]
        }
      ]
    },
    {
      "cell_type": "code",
      "source": [
        "print(metrics.classification_report(Y_test, pred_labels, labels = [0, 1]))"
      ],
      "metadata": {
        "colab": {
          "base_uri": "https://localhost:8080/"
        },
        "id": "B6P92Qk1rfZm",
        "outputId": "a5e1a16d-8141-4eac-dcec-653f84a69448"
      },
      "execution_count": null,
      "outputs": [
        {
          "output_type": "stream",
          "name": "stdout",
          "text": [
            "              precision    recall  f1-score   support\n",
            "\n",
            "           0       0.97      0.90      0.93       234\n",
            "           1       0.94      0.98      0.96       390\n",
            "\n",
            "    accuracy                           0.95       624\n",
            "   macro avg       0.95      0.94      0.95       624\n",
            "weighted avg       0.95      0.95      0.95       624\n",
            "\n"
          ]
        }
      ]
    },
    {
      "cell_type": "code",
      "source": [
        "roc_auc = metrics.roc_auc_score(Y_test, predictions)\n",
        "print('ROC_AUC: ', roc_auc)\n",
        "\n",
        "fpr, tpr, thresholds = metrics.roc_curve(Y_test, predictions)\n",
        "\n",
        "plt.plot(fpr, tpr, label = 'ROC_AUC = %0.3f' % roc_auc)\n",
        "\n",
        "plt.xlabel(\"False Positive Rate\", fontsize= 12)\n",
        "plt.ylabel(\"True Positive Rate\", fontsize= 12)\n",
        "plt.legend(loc=\"lower right\")\n",
        "\n",
        "plt.show()"
      ],
      "metadata": {
        "colab": {
          "base_uri": "https://localhost:8080/",
          "height": 299
        },
        "id": "1q1Z_YVhrfds",
        "outputId": "eb7a165d-34eb-4306-9a21-d7e8832650e7"
      },
      "execution_count": null,
      "outputs": [
        {
          "output_type": "stream",
          "name": "stdout",
          "text": [
            "ROC_AUC:  0.991606399298707\n"
          ]
        },
        {
          "output_type": "display_data",
          "data": {
            "text/plain": [
              "<Figure size 432x288 with 1 Axes>"
            ],
            "image/png": "[encoded data removed]"
          },
          "metadata": {
            "needs_background": "light"
          }
        }
      ]
    },
    {
      "cell_type": "code",
      "source": [
        "from sklearn.metrics import classification_report, confusion_matrix\n",
        "\n",
        "confusion_matrix = metrics.confusion_matrix(Y_test, pred_labels)\n",
        "sns.heatmap(confusion_matrix, annot=True, fmt=\"d\")\n",
        "\n",
        "plt.xlabel(\"Predicted Label\", fontsize= 12)\n",
        "plt.ylabel(\"True Label\", fontsize= 12)\n",
        "\n",
        "plt.show()"
      ],
      "metadata": {
        "colab": {
          "base_uri": "https://localhost:8080/",
          "height": 282
        },
        "id": "177lgpMxrn7v",
        "outputId": "12fad642-92f6-45fa-f228-ef5a3dd07b14"
      },
      "execution_count": null,
      "outputs": [
        {
          "output_type": "display_data",
          "data": {
            "text/plain": [
              "<Figure size 432x288 with 2 Axes>"
            ],
            "image/png": "[encoded data removed]"
          },
          "metadata": {
            "needs_background": "light"
          }
        }
      ]
    },
    {
      "cell_type": "code",
      "source": [
        "Y_test_value_resnet = Y_test.values.flatten()"
      ],
      "metadata": {
        "id": "nb4XeN6lrsI9"
      },
      "execution_count": null,
      "outputs": []
    },
    {
      "cell_type": "code",
      "source": [
        "results_resnet = pd.DataFrame({'Actual': Y_test_value_resnet.flatten(), 'Predicted': pred_labels.flatten()})\n",
        "incorrect_df_resnet = results_resnet[results_resnet.Actual!=results_resnet.Predicted]\n",
        "incorrect_df_resnet"
      ],
      "metadata": {
        "colab": {
          "base_uri": "https://localhost:8080/",
          "height": 1000
        },
        "id": "IjgC8ZngrsLY",
        "outputId": "334881d1-5d4d-4ddd-99d1-e95a6b921385"
      },
      "execution_count": null,
      "outputs": [
        {
          "output_type": "execute_result",
          "data": {
            "text/plain": [
              "     Actual  Predicted\n",
              "13        0          1\n",
              "21        0          1\n",
              "26        0          1\n",
              "34        0          1\n",
              "40        0          1\n",
              "42        0          1\n",
              "69        0          1\n",
              "74        0          1\n",
              "90        0          1\n",
              "112       0          1\n",
              "125       0          1\n",
              "136       0          1\n",
              "137       0          1\n",
              "151       0          1\n",
              "164       0          1\n",
              "166       0          1\n",
              "174       0          1\n",
              "178       0          1\n",
              "193       0          1\n",
              "194       0          1\n",
              "200       0          1\n",
              "212       0          1\n",
              "213       0          1\n",
              "226       0          1\n",
              "329       1          0\n",
              "351       1          0\n",
              "433       1          0\n",
              "453       1          0\n",
              "469       1          0\n",
              "525       1          0\n",
              "564       1          0"
            ],
            "text/html": [
              "\n",
              "  <div id=\"df-88601e04-0614-470e-8a68-86750c5791f8\">\n",
              "    <div class=\"colab-df-container\">\n",
              "      <div>\n",
              "<style scoped>\n",
              "    .dataframe tbody tr th:only-of-type {\n",
              "        vertical-align: middle;\n",
              "    }\n",
              "\n",
              "    .dataframe tbody tr th {\n",
              "        vertical-align: top;\n",
              "    }\n",
              "\n",
              "    .dataframe thead th {\n",
              "        text-align: right;\n",
              "    }\n",
              "</style>\n",
              "<table border=\"1\" class=\"dataframe\">\n",
              "  <thead>\n",
              "    <tr style=\"text-align: right;\">\n",
              "      <th></th>\n",
              "      <th>Actual</th>\n",
              "      <th>Predicted</th>\n",
              "    </tr>\n",
              "  </thead>\n",
              "  <tbody>\n",
              "    <tr>\n",
              "      <th>13</th>\n",
              "      <td>0</td>\n",
              "      <td>1</td>\n",
              "    </tr>\n",
              "    <tr>\n",
              "      <th>21</th>\n",
              "      <td>0</td>\n",
              "      <td>1</td>\n",
              "    </tr>\n",
              "    <tr>\n",
              "      <th>26</th>\n",
              "      <td>0</td>\n",
              "      <td>1</td>\n",
              "    </tr>\n",
              "    <tr>\n",
              "      <th>34</th>\n",
              "      <td>0</td>\n",
              "      <td>1</td>\n",
              "    </tr>\n",
              "    <tr>\n",
              "      <th>40</th>\n",
              "      <td>0</td>\n",
              "      <td>1</td>\n",
              "    </tr>\n",
              "    <tr>\n",
              "      <th>42</th>\n",
              "      <td>0</td>\n",
              "      <td>1</td>\n",
              "    </tr>\n",
              "    <tr>\n",
              "      <th>69</th>\n",
              "      <td>0</td>\n",
              "      <td>1</td>\n",
              "    </tr>\n",
              "    <tr>\n",
              "      <th>74</th>\n",
              "      <td>0</td>\n",
              "      <td>1</td>\n",
              "    </tr>\n",
              "    <tr>\n",
              "      <th>90</th>\n",
              "      <td>0</td>\n",
              "      <td>1</td>\n",
              "    </tr>\n",
              "    <tr>\n",
              "      <th>112</th>\n",
              "      <td>0</td>\n",
              "      <td>1</td>\n",
              "    </tr>\n",
              "    <tr>\n",
              "      <th>125</th>\n",
              "      <td>0</td>\n",
              "      <td>1</td>\n",
              "    </tr>\n",
              "    <tr>\n",
              "      <th>136</th>\n",
              "      <td>0</td>\n",
              "      <td>1</td>\n",
              "    </tr>\n",
              "    <tr>\n",
              "      <th>137</th>\n",
              "      <td>0</td>\n",
              "      <td>1</td>\n",
              "    </tr>\n",
              "    <tr>\n",
              "      <th>151</th>\n",
              "      <td>0</td>\n",
              "      <td>1</td>\n",
              "    </tr>\n",
              "    <tr>\n",
              "      <th>164</th>\n",
              "      <td>0</td>\n",
              "      <td>1</td>\n",
              "    </tr>\n",
              "    <tr>\n",
              "      <th>166</th>\n",
              "      <td>0</td>\n",
              "      <td>1</td>\n",
              "    </tr>\n",
              "    <tr>\n",
              "      <th>174</th>\n",
              "      <td>0</td>\n",
              "      <td>1</td>\n",
              "    </tr>\n",
              "    <tr>\n",
              "      <th>178</th>\n",
              "      <td>0</td>\n",
              "      <td>1</td>\n",
              "    </tr>\n",
              "    <tr>\n",
              "      <th>193</th>\n",
              "      <td>0</td>\n",
              "      <td>1</td>\n",
              "    </tr>\n",
              "    <tr>\n",
              "      <th>194</th>\n",
              "      <td>0</td>\n",
              "      <td>1</td>\n",
              "    </tr>\n",
              "    <tr>\n",
              "      <th>200</th>\n",
              "      <td>0</td>\n",
              "      <td>1</td>\n",
              "    </tr>\n",
              "    <tr>\n",
              "      <th>212</th>\n",
              "      <td>0</td>\n",
              "      <td>1</td>\n",
              "    </tr>\n",
              "    <tr>\n",
              "      <th>213</th>\n",
              "      <td>0</td>\n",
              "      <td>1</td>\n",
              "    </tr>\n",
              "    <tr>\n",
              "      <th>226</th>\n",
              "      <td>0</td>\n",
              "      <td>1</td>\n",
              "    </tr>\n",
              "    <tr>\n",
              "      <th>329</th>\n",
              "      <td>1</td>\n",
              "      <td>0</td>\n",
              "    </tr>\n",
              "    <tr>\n",
              "      <th>351</th>\n",
              "      <td>1</td>\n",
              "      <td>0</td>\n",
              "    </tr>\n",
              "    <tr>\n",
              "      <th>433</th>\n",
              "      <td>1</td>\n",
              "      <td>0</td>\n",
              "    </tr>\n",
              "    <tr>\n",
              "      <th>453</th>\n",
              "      <td>1</td>\n",
              "      <td>0</td>\n",
              "    </tr>\n",
              "    <tr>\n",
              "      <th>469</th>\n",
              "      <td>1</td>\n",
              "      <td>0</td>\n",
              "    </tr>\n",
              "    <tr>\n",
              "      <th>525</th>\n",
              "      <td>1</td>\n",
              "      <td>0</td>\n",
              "    </tr>\n",
              "    <tr>\n",
              "      <th>564</th>\n",
              "      <td>1</td>\n",
              "      <td>0</td>\n",
              "    </tr>\n",
              "  </tbody>\n",
              "</table>\n",
              "</div>\n",
              "      <button class=\"colab-df-convert\" onclick=\"convertToInteractive('df-88601e04-0614-470e-8a68-86750c5791f8')\"\n",
              "              title=\"Convert this dataframe to an interactive table.\"\n",
              "              style=\"display:none;\">\n",
              "        \n",
              "  <svg xmlns=\"http://www.w3.org/2000/svg\" height=\"24px\"viewBox=\"0 0 24 24\"\n",
              "       width=\"24px\">\n",
              "    <path d=\"M0 0h24v24H0V0z\" fill=\"none\"/>\n",
              "    <path d=\"M18.56 5.44l.94 2.06.94-2.06 2.06-.94-2.06-.94-.94-2.06-.94 2.06-2.06.94zm-11 1L8.5 8.5l.94-2.06 2.06-.94-2.06-.94L8.5 2.5l-.94 2.06-2.06.94zm10 10l.94 2.06.94-2.06 2.06-.94-2.06-.94-.94-2.06-.94 2.06-2.06.94z\"/><path d=\"M17.41 7.96l-1.37-1.37c-.4-.4-.92-.59-1.43-.59-.52 0-1.04.2-1.43.59L10.3 9.45l-7.72 7.72c-.78.78-.78 2.05 0 2.83L4 21.41c.39.39.9.59 1.41.59.51 0 1.02-.2 1.41-.59l7.78-7.78 2.81-2.81c.8-.78.8-2.07 0-2.86zM5.41 20L4 18.59l7.72-7.72 1.47 1.35L5.41 20z\"/>\n",
              "  </svg>\n",
              "      </button>\n",
              "      \n",
              "  <style>\n",
              "    .colab-df-container {\n",
              "      display:flex;\n",
              "      flex-wrap:wrap;\n",
              "      gap: 12px;\n",
              "    }\n",
              "\n",
              "    .colab-df-convert {\n",
              "      background-color: #E8F0FE;\n",
              "      border: none;\n",
              "      border-radius: 50%;\n",
              "      cursor: pointer;\n",
              "      display: none;\n",
              "      fill: #1967D2;\n",
              "      height: 32px;\n",
              "      padding: 0 0 0 0;\n",
              "      width: 32px;\n",
              "    }\n",
              "\n",
              "    .colab-df-convert:hover {\n",
              "      background-color: #E2EBFA;\n",
              "      box-shadow: 0px 1px 2px rgba(60, 64, 67, 0.3), 0px 1px 3px 1px rgba(60, 64, 67, 0.15);\n",
              "      fill: #174EA6;\n",
              "    }\n",
              "\n",
              "    [theme=dark] .colab-df-convert {\n",
              "      background-color: #3B4455;\n",
              "      fill: #D2E3FC;\n",
              "    }\n",
              "\n",
              "    [theme=dark] .colab-df-convert:hover {\n",
              "      background-color: #434B5C;\n",
              "      box-shadow: 0px 1px 3px 1px rgba(0, 0, 0, 0.15);\n",
              "      filter: drop-shadow(0px 1px 2px rgba(0, 0, 0, 0.3));\n",
              "      fill: #FFFFFF;\n",
              "    }\n",
              "  </style>\n",
              "\n",
              "      <script>\n",
              "        const buttonEl =\n",
              "          document.querySelector('#df-88601e04-0614-470e-8a68-86750c5791f8 button.colab-df-convert');\n",
              "        buttonEl.style.display =\n",
              "          google.colab.kernel.accessAllowed ? 'block' : 'none';\n",
              "\n",
              "        async function convertToInteractive(key) {\n",
              "          const element = document.querySelector('#df-88601e04-0614-470e-8a68-86750c5791f8');\n",
              "          const dataTable =\n",
              "            await google.colab.kernel.invokeFunction('convertToInteractive',\n",
              "                                                     [key], {});\n",
              "          if (!dataTable) return;\n",
              "\n",
              "          const docLinkHtml = 'Like what you see? Visit the ' +\n",
              "            '<a target=\"_blank\" href=https://colab.research.google.com/notebooks/data_table.ipynb>data table notebook</a>'\n",
              "            + ' to learn more about interactive tables.';\n",
              "          element.innerHTML = '';\n",
              "          dataTable['output_type'] = 'display_data';\n",
              "          await google.colab.output.renderOutput(dataTable, element);\n",
              "          const docLink = document.createElement('div');\n",
              "          docLink.innerHTML = docLinkHtml;\n",
              "          element.appendChild(docLink);\n",
              "        }\n",
              "      </script>\n",
              "    </div>\n",
              "  </div>\n",
              "  "
            ]
          },
          "metadata": {},
          "execution_count": 76
        }
      ]
    },
    {
      "cell_type": "code",
      "source": [
        "# model_pretrained_resnet.save('/content/drive/MyDrive/Colab Notebooks/ResNet50V2.h5')"
      ],
      "metadata": {
        "id": "9lywFAFq7OPG"
      },
      "execution_count": null,
      "outputs": []
    }
  ]
}